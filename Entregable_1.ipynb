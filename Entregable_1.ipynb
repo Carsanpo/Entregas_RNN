{
 "cells": [
  {
   "cell_type": "markdown",
   "metadata": {},
   "source": [
    "# Entregable 1 (RNN)\n",
    "Por Carlos Sánchez Polo\n",
    "Asignatura Deep Learning"
   ]
  },
  {
   "cell_type": "markdown",
   "metadata": {},
   "source": [
    "## Enunciado:\n",
    "\n",
    "Aplicación de SimpleRNN a:\n",
    "1. Dataset IMDB de Keras (https://keras.io/api/datasets/imdb/),\n",
    "2. Otro Dataset de Keras o TensorFlow (https://keras.io/api/datasets/, https://www.tensorflow.org/datasets/catalog/overviewhl=%20es#all_datasets)"
   ]
  }
 ],
 "metadata": {
  "language_info": {
   "name": "python"
  }
 },
 "nbformat": 4,
 "nbformat_minor": 2
}
