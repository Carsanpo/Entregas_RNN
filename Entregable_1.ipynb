{
  "cells": [
    {
      "cell_type": "markdown",
      "metadata": {
        "id": "Fe65XRSGqbjl"
      },
      "source": [
        "# Entregable 1 (RNN)\n",
        "Por Carlos Sánchez Polo\n",
        "Asignatura Deep Learning"
      ]
    },
    {
      "cell_type": "markdown",
      "metadata": {
        "id": "W-Nn3zlnqbjn"
      },
      "source": [
        "## Enunciado:\n",
        "\n",
        "Aplicación de SimpleRNN a:\n",
        "1. Dataset IMDB de Keras (https://keras.io/api/datasets/imdb/),\n",
        "2. Otro Dataset de Keras o TensorFlow (https://keras.io/api/datasets/, https://www.tensorflow.org/datasets/catalog/overviewhl=%20es#all_datasets)"
      ]
    },
    {
      "cell_type": "code",
      "execution_count": null,
      "metadata": {
        "id": "kreW9x73qbjn"
      },
      "outputs": [],
      "source": [
        "#!pip install tensorflow"
      ]
    },
    {
      "cell_type": "code",
      "execution_count": 20,
      "metadata": {
        "id": "QvmSAvGsqbjn"
      },
      "outputs": [],
      "source": [
        "import numpy as np\n",
        "import pandas as pd\n",
        "from keras.datasets import imdb\n",
        "from keras.preprocessing import sequence\n",
        "\n",
        "\n",
        "from keras import models\n",
        "from keras import layers\n",
        "from keras.layers import Dropout"
      ]
    },
    {
      "cell_type": "code",
      "execution_count": 2,
      "metadata": {
        "colab": {
          "base_uri": "https://localhost:8080/"
        },
        "id": "f5g6_5ibqbjo",
        "outputId": "c3223c09-61b7-407f-b95d-5e99a5bfb581"
      },
      "outputs": [
        {
          "output_type": "stream",
          "name": "stdout",
          "text": [
            "Downloading data from https://storage.googleapis.com/tensorflow/tf-keras-datasets/imdb.npz\n",
            "17464789/17464789 [==============================] - 0s 0us/step\n"
          ]
        }
      ],
      "source": [
        "(train_data, train_labels), (test_data, test_labels) = imdb.load_data(num_words=10000)"
      ]
    },
    {
      "cell_type": "code",
      "execution_count": 3,
      "metadata": {
        "id": "opzNxgA6qbjo"
      },
      "outputs": [],
      "source": [
        "maxlen = 1000\n",
        "x_train = sequence.pad_sequences(train_data, maxlen=maxlen)\n",
        "x_test = sequence.pad_sequences(test_data, maxlen=maxlen)"
      ]
    },
    {
      "cell_type": "code",
      "execution_count": 9,
      "metadata": {
        "id": "dZGcUIksqbjo"
      },
      "outputs": [],
      "source": [
        "from keras import regularizers\n",
        "\n",
        "max_words = 1000\n",
        "embedding_dim = 32\n",
        "\n",
        "# Definir el modelo\n",
        "model = models.Sequential()\n",
        "model.add(layers.Embedding(input_dim=max_words, output_dim=embedding_dim, input_length=max_words))\n",
        "model.add(layers.Flatten())\n",
        "model.add(layers.Dense(32, activation='relu', kernel_regularizer=regularizers.l2(0.01)))\n",
        "model.add(layers.Dense(1, activation='sigmoid'))\n",
        "\n",
        "# Compilar el modelo\n",
        "model.compile(optimizer='adam', loss='binary_crossentropy', metrics=['accuracy'])\n"
      ]
    },
    {
      "cell_type": "code",
      "execution_count": 10,
      "metadata": {
        "colab": {
          "base_uri": "https://localhost:8080/"
        },
        "id": "vYDJbS03qbjo",
        "outputId": "e9d59fcf-1a43-41b5-d1ec-b880947d4d31"
      },
      "outputs": [
        {
          "output_type": "stream",
          "name": "stdout",
          "text": [
            "Epoch 1/15\n",
            "40/40 [==============================] - 8s 146ms/step - loss: 0.7940 - accuracy: 0.5559 - val_loss: 0.6757 - val_accuracy: 0.6276\n",
            "Epoch 2/15\n",
            "40/40 [==============================] - 6s 157ms/step - loss: 0.6052 - accuracy: 0.7541 - val_loss: 0.5388 - val_accuracy: 0.8032\n",
            "Epoch 3/15\n",
            "40/40 [==============================] - 5s 119ms/step - loss: 0.4981 - accuracy: 0.8306 - val_loss: 0.4955 - val_accuracy: 0.8138\n",
            "Epoch 4/15\n",
            "40/40 [==============================] - 5s 129ms/step - loss: 0.4523 - accuracy: 0.8458 - val_loss: 0.4662 - val_accuracy: 0.8250\n",
            "Epoch 5/15\n",
            "40/40 [==============================] - 4s 97ms/step - loss: 0.4262 - accuracy: 0.8520 - val_loss: 0.4310 - val_accuracy: 0.8512\n",
            "Epoch 6/15\n",
            "40/40 [==============================] - 4s 88ms/step - loss: 0.4128 - accuracy: 0.8609 - val_loss: 0.4285 - val_accuracy: 0.8462\n",
            "Epoch 7/15\n",
            "40/40 [==============================] - 4s 110ms/step - loss: 0.3989 - accuracy: 0.8648 - val_loss: 0.4180 - val_accuracy: 0.8496\n",
            "Epoch 8/15\n",
            "40/40 [==============================] - 3s 70ms/step - loss: 0.4046 - accuracy: 0.8633 - val_loss: 0.4145 - val_accuracy: 0.8524\n",
            "Epoch 9/15\n",
            "40/40 [==============================] - 3s 80ms/step - loss: 0.3908 - accuracy: 0.8698 - val_loss: 0.4113 - val_accuracy: 0.8560\n",
            "Epoch 10/15\n",
            "40/40 [==============================] - 3s 66ms/step - loss: 0.3732 - accuracy: 0.8753 - val_loss: 0.4039 - val_accuracy: 0.8534\n",
            "Epoch 11/15\n",
            "40/40 [==============================] - 4s 86ms/step - loss: 0.3700 - accuracy: 0.8777 - val_loss: 0.4283 - val_accuracy: 0.8380\n",
            "Epoch 12/15\n",
            "40/40 [==============================] - 3s 68ms/step - loss: 0.3743 - accuracy: 0.8766 - val_loss: 0.4696 - val_accuracy: 0.8170\n",
            "Epoch 13/15\n",
            "40/40 [==============================] - 2s 53ms/step - loss: 0.3706 - accuracy: 0.8768 - val_loss: 0.4036 - val_accuracy: 0.8636\n",
            "Epoch 14/15\n",
            "40/40 [==============================] - 2s 46ms/step - loss: 0.3588 - accuracy: 0.8866 - val_loss: 0.4080 - val_accuracy: 0.8550\n",
            "Epoch 15/15\n",
            "40/40 [==============================] - 2s 39ms/step - loss: 0.3639 - accuracy: 0.8853 - val_loss: 0.4039 - val_accuracy: 0.8552\n"
          ]
        }
      ],
      "source": [
        "history = model.fit(x_train,\n",
        "                    train_labels,\n",
        "                    epochs=15,\n",
        "                    batch_size=512,\n",
        "                    validation_split=0.2)\n",
        "\n"
      ]
    },
    {
      "cell_type": "code",
      "execution_count": 11,
      "metadata": {
        "colab": {
          "base_uri": "https://localhost:8080/"
        },
        "id": "aFGU5IYaqbjp",
        "outputId": "f178279f-673a-4f9c-8de7-c0ba07339079"
      },
      "outputs": [
        {
          "output_type": "stream",
          "name": "stdout",
          "text": [
            "782/782 [==============================] - 2s 2ms/step - loss: 0.3986 - accuracy: 0.8575\n"
          ]
        }
      ],
      "source": [
        "val_acc_train = history.history['accuracy']\n",
        "val_acc_test = history.history['val_accuracy']\n",
        "\n",
        "results = model.evaluate(x_test, test_labels)"
      ]
    },
    {
      "cell_type": "code",
      "execution_count": 12,
      "metadata": {
        "colab": {
          "base_uri": "https://localhost:8080/",
          "height": 474
        },
        "id": "gp_Wbj3wqbjp",
        "outputId": "192c873d-0ba6-4911-f219-6d0fb443f951"
      },
      "outputs": [
        {
          "output_type": "display_data",
          "data": {
            "text/plain": [
              "<Figure size 640x480 with 1 Axes>"
            ],
            "image/png": "[encoded data removed]"
          },
          "metadata": {}
        }
      ],
      "source": [
        "import matplotlib.pyplot as plt\n",
        "\n",
        "\n",
        "epochs = range(1, len(val_acc_train) + 1)\n",
        "plt.plot(epochs, val_acc_train, 'r', label='Accuracy Train')\n",
        "plt.plot(epochs, val_acc_test, 'b',  label='Accuracy Test')\n",
        "plt.title('Entrenamiento y Test')\n",
        "plt.xlabel('Épocas')\n",
        "plt.ylabel('Accuracy')\n",
        "plt.legend()\n",
        "plt.grid()\n",
        "\n",
        "plt.show()\n"
      ]
    },
    {
      "cell_type": "markdown",
      "metadata": {
        "id": "f9-5jO5Gqbjp"
      },
      "source": [
        "## RNN con yelp_review_full_csv (ejecución local)"
      ]
    },
    {
      "cell_type": "markdown",
      "source": [
        "Saltar a ejecución en la nube. La ejecución en local no está completa por falta de recursos.\n"
      ],
      "metadata": {
        "id": "2b3zGr76rvjk"
      }
    },
    {
      "cell_type": "code",
      "execution_count": null,
      "metadata": {
        "id": "Z8VX-jWxqbjp",
        "outputId": "9e5889cc-a91d-468b-e248-5fd95081b228"
      },
      "outputs": [
        {
          "name": "stdout",
          "output_type": "stream",
          "text": [
            "Tamaño del conjunto de entrenamiento (data): 97500\n",
            "Tamaño del conjunto de prueba (data): 12500\n",
            "Tamaño del conjunto de entrenamiento (labels): 97500\n",
            "Tamaño del conjunto de prueba (labels): 12500\n"
          ]
        }
      ],
      "source": [
        "path_train=\"yelp_review_full_csv/train.csv\"\n",
        "path_test=\"yelp_review_full_csv/test.csv\"\n",
        "\n",
        "# Cargar el 10% de las filas del archivo train.csv\n",
        "train_data_2 = pd.read_csv(path_train).sample(frac=0.15, random_state=42)\n",
        "\n",
        "# Separar características (data) y etiquetas (labels) para train\n",
        "train_labels_2 = train_data_2.iloc[:, 0]  # La primera columna contiene las etiquetas\n",
        "train_data_2 = train_data_2.iloc[:, 1]  # Las características están en todas las columnas excepto la primera\n",
        "\n",
        "# Cargar el 10% de las filas del archivo test.csv\n",
        "test_data_2 = pd.read_csv(path_test).sample(frac=0.25, random_state=42)\n",
        "\n",
        "# Separar características (data) y etiquetas (labels) para test\n",
        "test_labels_2 = test_data_2.iloc[:, 0]  # La primera columna contiene las etiquetas\n",
        "test_data_2 = test_data_2.iloc[:, 1]  # Las características están en todas las columnas excepto la primera\n",
        "\n",
        "# Verificar el tamaño de las muestras\n",
        "print(\"Tamaño del conjunto de entrenamiento (data):\", len(train_data_2))\n",
        "print(\"Tamaño del conjunto de prueba (data):\", len(test_data_2))\n",
        "print(\"Tamaño del conjunto de entrenamiento (labels):\", len(train_labels_2))\n",
        "print(\"Tamaño del conjunto de prueba (labels):\", len(test_labels_2))\n"
      ]
    },
    {
      "cell_type": "code",
      "execution_count": null,
      "metadata": {
        "id": "etpUTXtUqbjq"
      },
      "outputs": [],
      "source": [
        "from keras.utils import to_categorical\n",
        "\n",
        "# Convertir train_labels_2 a one-hot encoding\n",
        "train_labels_2_encoded = to_categorical(train_labels_2 - 1)\n",
        "\n",
        "# Convertir test_labels_2 a one-hot encoding\n",
        "test_labels_2_encoded = to_categorical(test_labels_2 - 1)\n"
      ]
    },
    {
      "cell_type": "raw",
      "metadata": {
        "vscode": {
          "languageId": "raw"
        },
        "id": "QoC1_UBsqbjq"
      },
      "source": [
        "from tensorflow.keras.preprocessing.text import Tokenizer\n",
        "\n",
        "tokenizer = Tokenizer(num_words=300)\n",
        "\n",
        "# Ajusta el Tokenizer a tus datos de entrenamiento\n",
        "tokenizer.fit_on_texts(train_data_2, )\n",
        "\n",
        "# Obtén un diccionario de recuentos de palabras\n",
        "word_counts = tokenizer.word_counts\n",
        "\n",
        "# Ordena el diccionario por recuentos de palabras en orden descendente\n",
        "sorted_word_counts = sorted(word_counts.items(), key=lambda x: x[1], reverse=True)\n",
        "\n",
        "# Obtén una lista de las palabras más comunes\n",
        "most_common_words = [word for word, count in sorted_word_counts]"
      ]
    },
    {
      "cell_type": "code",
      "execution_count": null,
      "metadata": {
        "id": "anmtri7_qbjq"
      },
      "outputs": [],
      "source": [
        "from tensorflow.keras.preprocessing.text import Tokenizer\n",
        "\n",
        "maxlen_2 = 80\n",
        "max_num_words= 300\n",
        "ignore_top_words= 10\n",
        "\n",
        "# Inicializa un Tokenizer\n",
        "tokenizer = Tokenizer(num_words=max_num_words)\n",
        "\n",
        "# Ajusta el Tokenizer a tus datos de entrenamiento\n",
        "tokenizer.fit_on_texts(train_data_2)\n",
        "\n",
        "# Get the word counts\n",
        "word_counts = tokenizer.word_counts\n",
        "\n",
        "# Sort the word counts and get the 10 most common words\n",
        "most_common_words = sorted(word_counts.items(), key=lambda x: x[1], reverse=True)[:ignore_top_words]\n",
        "most_common_words = [word for word, count in most_common_words]\n",
        "\n",
        "# Adjust the word index of the tokenizer\n",
        "for word in most_common_words:\n",
        "    del tokenizer.word_index[word]\n",
        "    del tokenizer.word_docs[word]\n",
        "    del tokenizer.word_counts[word]\n",
        "\n",
        "# Now you can convert your texts into sequences\n",
        "train_data_2_token = tokenizer.texts_to_sequences(train_data_2)\n",
        "test_data_2_token  = tokenizer.texts_to_sequences(test_data_2)\n",
        "\n",
        "# Ahora puedes aplicar sequence.pad_sequences\n",
        "x_train_2 = sequence.pad_sequences(train_data_2_token, maxlen=maxlen_2)\n",
        "x_test_2 = sequence.pad_sequences(test_data_2_token, maxlen=maxlen_2)"
      ]
    },
    {
      "cell_type": "raw",
      "metadata": {
        "vscode": {
          "languageId": "raw"
        },
        "id": "BWKaskIjqbjq"
      },
      "source": [
        "max_words = 400\n",
        "embedding_dim = 15\n",
        "num_classes = 5\n",
        "\n",
        "# Definir el modelo\n",
        "model_2 = models.Sequential()\n",
        "model_2.add(layers.Embedding(input_dim=maxlen_2, output_dim=embedding_dim))\n",
        "model_2.add(layers.Flatten())\n",
        "model_2.add(layers.Dense(64, activation='relu', kernel_regularizer=regularizers.l2(0.01)))\n",
        "model_2.add(layers.Dense(num_classes, activation='softmax'))\n",
        "\n",
        "# Compilar el modelo\n",
        "model_2.compile(optimizer='adam', loss='categorical_crossentropy', metrics=['accuracy'])"
      ]
    },
    {
      "cell_type": "code",
      "execution_count": null,
      "metadata": {
        "id": "bRDEHbyoqbjq",
        "outputId": "495365ea-5312-4f43-f7dd-90a051073bd7"
      },
      "outputs": [
        {
          "data": {
            "text/html": [
              "<pre style=\"white-space:pre;overflow-x:auto;line-height:normal;font-family:Menlo,'DejaVu Sans Mono',consolas,'Courier New',monospace\"><span style=\"font-weight: bold\">Model: \"sequential_10\"</span>\n",
              "</pre>\n"
            ],
            "text/plain": [
              "\u001b[1mModel: \"sequential_10\"\u001b[0m\n"
            ]
          },
          "metadata": {},
          "output_type": "display_data"
        },
        {
          "data": {
            "text/html": [
              "<pre style=\"white-space:pre;overflow-x:auto;line-height:normal;font-family:Menlo,'DejaVu Sans Mono',consolas,'Courier New',monospace\">┏━━━━━━━━━━━━━━━━━━━━━━━━━━━━━━━━━┳━━━━━━━━━━━━━━━━━━━━━━━━┳━━━━━━━━━━━━━━━┓\n",
              "┃<span style=\"font-weight: bold\"> Layer (type)                    </span>┃<span style=\"font-weight: bold\"> Output Shape           </span>┃<span style=\"font-weight: bold\">       Param # </span>┃\n",
              "┡━━━━━━━━━━━━━━━━━━━━━━━━━━━━━━━━━╇━━━━━━━━━━━━━━━━━━━━━━━━╇━━━━━━━━━━━━━━━┩\n",
              "│ embedding_10 (<span style=\"color: #0087ff; text-decoration-color: #0087ff\">Embedding</span>)        │ ?                      │   <span style=\"color: #00af00; text-decoration-color: #00af00\">0</span> (unbuilt) │\n",
              "├─────────────────────────────────┼────────────────────────┼───────────────┤\n",
              "│ simple_rnn_5 (<span style=\"color: #0087ff; text-decoration-color: #0087ff\">SimpleRNN</span>)        │ ?                      │   <span style=\"color: #00af00; text-decoration-color: #00af00\">0</span> (unbuilt) │\n",
              "├─────────────────────────────────┼────────────────────────┼───────────────┤\n",
              "│ simple_rnn_6 (<span style=\"color: #0087ff; text-decoration-color: #0087ff\">SimpleRNN</span>)        │ ?                      │   <span style=\"color: #00af00; text-decoration-color: #00af00\">0</span> (unbuilt) │\n",
              "├─────────────────────────────────┼────────────────────────┼───────────────┤\n",
              "│ dropout_5 (<span style=\"color: #0087ff; text-decoration-color: #0087ff\">Dropout</span>)             │ ?                      │             <span style=\"color: #00af00; text-decoration-color: #00af00\">0</span> │\n",
              "├─────────────────────────────────┼────────────────────────┼───────────────┤\n",
              "│ dense_20 (<span style=\"color: #0087ff; text-decoration-color: #0087ff\">Dense</span>)                │ ?                      │   <span style=\"color: #00af00; text-decoration-color: #00af00\">0</span> (unbuilt) │\n",
              "├─────────────────────────────────┼────────────────────────┼───────────────┤\n",
              "│ dense_21 (<span style=\"color: #0087ff; text-decoration-color: #0087ff\">Dense</span>)                │ ?                      │   <span style=\"color: #00af00; text-decoration-color: #00af00\">0</span> (unbuilt) │\n",
              "└─────────────────────────────────┴────────────────────────┴───────────────┘\n",
              "</pre>\n"
            ],
            "text/plain": [
              "┏━━━━━━━━━━━━━━━━━━━━━━━━━━━━━━━━━┳━━━━━━━━━━━━━━━━━━━━━━━━┳━━━━━━━━━━━━━━━┓\n",
              "┃\u001b[1m \u001b[0m\u001b[1mLayer (type)                   \u001b[0m\u001b[1m \u001b[0m┃\u001b[1m \u001b[0m\u001b[1mOutput Shape          \u001b[0m\u001b[1m \u001b[0m┃\u001b[1m \u001b[0m\u001b[1m      Param #\u001b[0m\u001b[1m \u001b[0m┃\n",
              "┡━━━━━━━━━━━━━━━━━━━━━━━━━━━━━━━━━╇━━━━━━━━━━━━━━━━━━━━━━━━╇━━━━━━━━━━━━━━━┩\n",
              "│ embedding_10 (\u001b[38;5;33mEmbedding\u001b[0m)        │ ?                      │   \u001b[38;5;34m0\u001b[0m (unbuilt) │\n",
              "├─────────────────────────────────┼────────────────────────┼───────────────┤\n",
              "│ simple_rnn_5 (\u001b[38;5;33mSimpleRNN\u001b[0m)        │ ?                      │   \u001b[38;5;34m0\u001b[0m (unbuilt) │\n",
              "├─────────────────────────────────┼────────────────────────┼───────────────┤\n",
              "│ simple_rnn_6 (\u001b[38;5;33mSimpleRNN\u001b[0m)        │ ?                      │   \u001b[38;5;34m0\u001b[0m (unbuilt) │\n",
              "├─────────────────────────────────┼────────────────────────┼───────────────┤\n",
              "│ dropout_5 (\u001b[38;5;33mDropout\u001b[0m)             │ ?                      │             \u001b[38;5;34m0\u001b[0m │\n",
              "├─────────────────────────────────┼────────────────────────┼───────────────┤\n",
              "│ dense_20 (\u001b[38;5;33mDense\u001b[0m)                │ ?                      │   \u001b[38;5;34m0\u001b[0m (unbuilt) │\n",
              "├─────────────────────────────────┼────────────────────────┼───────────────┤\n",
              "│ dense_21 (\u001b[38;5;33mDense\u001b[0m)                │ ?                      │   \u001b[38;5;34m0\u001b[0m (unbuilt) │\n",
              "└─────────────────────────────────┴────────────────────────┴───────────────┘\n"
            ]
          },
          "metadata": {},
          "output_type": "display_data"
        },
        {
          "data": {
            "text/html": [
              "<pre style=\"white-space:pre;overflow-x:auto;line-height:normal;font-family:Menlo,'DejaVu Sans Mono',consolas,'Courier New',monospace\"><span style=\"font-weight: bold\"> Total params: </span><span style=\"color: #00af00; text-decoration-color: #00af00\">0</span> (0.00 B)\n",
              "</pre>\n"
            ],
            "text/plain": [
              "\u001b[1m Total params: \u001b[0m\u001b[38;5;34m0\u001b[0m (0.00 B)\n"
            ]
          },
          "metadata": {},
          "output_type": "display_data"
        },
        {
          "data": {
            "text/html": [
              "<pre style=\"white-space:pre;overflow-x:auto;line-height:normal;font-family:Menlo,'DejaVu Sans Mono',consolas,'Courier New',monospace\"><span style=\"font-weight: bold\"> Trainable params: </span><span style=\"color: #00af00; text-decoration-color: #00af00\">0</span> (0.00 B)\n",
              "</pre>\n"
            ],
            "text/plain": [
              "\u001b[1m Trainable params: \u001b[0m\u001b[38;5;34m0\u001b[0m (0.00 B)\n"
            ]
          },
          "metadata": {},
          "output_type": "display_data"
        },
        {
          "data": {
            "text/html": [
              "<pre style=\"white-space:pre;overflow-x:auto;line-height:normal;font-family:Menlo,'DejaVu Sans Mono',consolas,'Courier New',monospace\"><span style=\"font-weight: bold\"> Non-trainable params: </span><span style=\"color: #00af00; text-decoration-color: #00af00\">0</span> (0.00 B)\n",
              "</pre>\n"
            ],
            "text/plain": [
              "\u001b[1m Non-trainable params: \u001b[0m\u001b[38;5;34m0\u001b[0m (0.00 B)\n"
            ]
          },
          "metadata": {},
          "output_type": "display_data"
        }
      ],
      "source": [
        "\n",
        "embedding_dim = 100\n",
        "num_classes = 5\n",
        "\n",
        "model_2 = models.Sequential()\n",
        "model_2.add(layers.Embedding(input_dim=maxlen_2, output_dim=embedding_dim))\n",
        "model_2.add(layers.SimpleRNN(64, return_sequences=True))\n",
        "model_2.add(layers.SimpleRNN(32))\n",
        "model_2.add(layers.Dropout(0.1))\n",
        "model_2.add(layers.Dense(128, activation='relu', kernel_regularizer=regularizers.l2(0.01)))\n",
        "model_2.add(layers.Dense(num_classes, activation='softmax'))\n",
        "\n",
        "\n",
        "# Compilar el modelo\n",
        "model_2.compile(optimizer='adam', loss='categorical_crossentropy', metrics=['accuracy'])\n",
        "model_2.summary()"
      ]
    },
    {
      "cell_type": "code",
      "execution_count": null,
      "metadata": {
        "id": "tBwAdD_hqbjr",
        "outputId": "82bb1a72-57aa-4d3c-bb81-5ece5b5fd742"
      },
      "outputs": [
        {
          "name": "stdout",
          "output_type": "stream",
          "text": [
            "Epoch 1/20\n",
            "\u001b[1m96/96\u001b[0m \u001b[32m━━━━━━━━━━━━━━━━━━━━\u001b[0m\u001b[37m\u001b[0m \u001b[1m26s\u001b[0m 232ms/step - accuracy: 0.2567 - loss: 1.9485 - val_accuracy: 0.3196 - val_loss: 1.6007\n",
            "Epoch 2/20\n",
            "\u001b[1m96/96\u001b[0m \u001b[32m━━━━━━━━━━━━━━━━━━━━\u001b[0m\u001b[37m\u001b[0m \u001b[1m27s\u001b[0m 281ms/step - accuracy: 0.3533 - loss: 1.5372 - val_accuracy: 0.3891 - val_loss: 1.4334\n",
            "Epoch 3/20\n",
            "\u001b[1m62/96\u001b[0m \u001b[32m━━━━━━━━━━━━\u001b[0m\u001b[37m━━━━━━━━\u001b[0m \u001b[1m9s\u001b[0m 278ms/step - accuracy: 0.3885 - loss: 1.4265"
          ]
        },
        {
          "ename": "KeyboardInterrupt",
          "evalue": "",
          "output_type": "error",
          "traceback": [
            "\u001b[1;31m---------------------------------------------------------------------------\u001b[0m",
            "\u001b[1;31mKeyboardInterrupt\u001b[0m                         Traceback (most recent call last)",
            "Cell \u001b[1;32mIn[51], line 1\u001b[0m\n\u001b[1;32m----> 1\u001b[0m history_2 \u001b[38;5;241m=\u001b[39m model_2\u001b[38;5;241m.\u001b[39mfit(x_train_2,\n\u001b[0;32m      2\u001b[0m                         train_labels_2_encoded,\n\u001b[0;32m      3\u001b[0m                         epochs\u001b[38;5;241m=\u001b[39m\u001b[38;5;241m20\u001b[39m,\n\u001b[0;32m      4\u001b[0m                         batch_size\u001b[38;5;241m=\u001b[39m\u001b[38;5;241m1024\u001b[39m,\n\u001b[0;32m      5\u001b[0m                         validation_data\u001b[38;5;241m=\u001b[39m(x_test_2, test_labels_2_encoded))\n",
            "File \u001b[1;32mc:\\Users\\Carlos\\anaconda3\\envs\\DS_2324\\Lib\\site-packages\\keras\\src\\utils\\traceback_utils.py:117\u001b[0m, in \u001b[0;36mfilter_traceback.<locals>.error_handler\u001b[1;34m(*args, **kwargs)\u001b[0m\n\u001b[0;32m    115\u001b[0m filtered_tb \u001b[38;5;241m=\u001b[39m \u001b[38;5;28;01mNone\u001b[39;00m\n\u001b[0;32m    116\u001b[0m \u001b[38;5;28;01mtry\u001b[39;00m:\n\u001b[1;32m--> 117\u001b[0m     \u001b[38;5;28;01mreturn\u001b[39;00m fn(\u001b[38;5;241m*\u001b[39margs, \u001b[38;5;241m*\u001b[39m\u001b[38;5;241m*\u001b[39mkwargs)\n\u001b[0;32m    118\u001b[0m \u001b[38;5;28;01mexcept\u001b[39;00m \u001b[38;5;167;01mException\u001b[39;00m \u001b[38;5;28;01mas\u001b[39;00m e:\n\u001b[0;32m    119\u001b[0m     filtered_tb \u001b[38;5;241m=\u001b[39m _process_traceback_frames(e\u001b[38;5;241m.\u001b[39m__traceback__)\n",
            "File \u001b[1;32mc:\\Users\\Carlos\\anaconda3\\envs\\DS_2324\\Lib\\site-packages\\keras\\src\\backend\\tensorflow\\trainer.py:329\u001b[0m, in \u001b[0;36mTensorFlowTrainer.fit\u001b[1;34m(self, x, y, batch_size, epochs, verbose, callbacks, validation_split, validation_data, shuffle, class_weight, sample_weight, initial_epoch, steps_per_epoch, validation_steps, validation_batch_size, validation_freq)\u001b[0m\n\u001b[0;32m    327\u001b[0m \u001b[38;5;28;01mfor\u001b[39;00m step, iterator \u001b[38;5;129;01min\u001b[39;00m epoch_iterator\u001b[38;5;241m.\u001b[39menumerate_epoch():\n\u001b[0;32m    328\u001b[0m     callbacks\u001b[38;5;241m.\u001b[39mon_train_batch_begin(step)\n\u001b[1;32m--> 329\u001b[0m     logs \u001b[38;5;241m=\u001b[39m \u001b[38;5;28mself\u001b[39m\u001b[38;5;241m.\u001b[39mtrain_function(iterator)\n\u001b[0;32m    330\u001b[0m     callbacks\u001b[38;5;241m.\u001b[39mon_train_batch_end(\n\u001b[0;32m    331\u001b[0m         step, \u001b[38;5;28mself\u001b[39m\u001b[38;5;241m.\u001b[39m_pythonify_logs(logs)\n\u001b[0;32m    332\u001b[0m     )\n\u001b[0;32m    333\u001b[0m     \u001b[38;5;28;01mif\u001b[39;00m \u001b[38;5;28mself\u001b[39m\u001b[38;5;241m.\u001b[39mstop_training:\n",
            "File \u001b[1;32mc:\\Users\\Carlos\\anaconda3\\envs\\DS_2324\\Lib\\site-packages\\tensorflow\\python\\util\\traceback_utils.py:150\u001b[0m, in \u001b[0;36mfilter_traceback.<locals>.error_handler\u001b[1;34m(*args, **kwargs)\u001b[0m\n\u001b[0;32m    148\u001b[0m filtered_tb \u001b[38;5;241m=\u001b[39m \u001b[38;5;28;01mNone\u001b[39;00m\n\u001b[0;32m    149\u001b[0m \u001b[38;5;28;01mtry\u001b[39;00m:\n\u001b[1;32m--> 150\u001b[0m   \u001b[38;5;28;01mreturn\u001b[39;00m fn(\u001b[38;5;241m*\u001b[39margs, \u001b[38;5;241m*\u001b[39m\u001b[38;5;241m*\u001b[39mkwargs)\n\u001b[0;32m    151\u001b[0m \u001b[38;5;28;01mexcept\u001b[39;00m \u001b[38;5;167;01mException\u001b[39;00m \u001b[38;5;28;01mas\u001b[39;00m e:\n\u001b[0;32m    152\u001b[0m   filtered_tb \u001b[38;5;241m=\u001b[39m _process_traceback_frames(e\u001b[38;5;241m.\u001b[39m__traceback__)\n",
            "File \u001b[1;32mc:\\Users\\Carlos\\anaconda3\\envs\\DS_2324\\Lib\\site-packages\\tensorflow\\python\\eager\\polymorphic_function\\polymorphic_function.py:833\u001b[0m, in \u001b[0;36mFunction.__call__\u001b[1;34m(self, *args, **kwds)\u001b[0m\n\u001b[0;32m    830\u001b[0m compiler \u001b[38;5;241m=\u001b[39m \u001b[38;5;124m\"\u001b[39m\u001b[38;5;124mxla\u001b[39m\u001b[38;5;124m\"\u001b[39m \u001b[38;5;28;01mif\u001b[39;00m \u001b[38;5;28mself\u001b[39m\u001b[38;5;241m.\u001b[39m_jit_compile \u001b[38;5;28;01melse\u001b[39;00m \u001b[38;5;124m\"\u001b[39m\u001b[38;5;124mnonXla\u001b[39m\u001b[38;5;124m\"\u001b[39m\n\u001b[0;32m    832\u001b[0m \u001b[38;5;28;01mwith\u001b[39;00m OptionalXlaContext(\u001b[38;5;28mself\u001b[39m\u001b[38;5;241m.\u001b[39m_jit_compile):\n\u001b[1;32m--> 833\u001b[0m   result \u001b[38;5;241m=\u001b[39m \u001b[38;5;28mself\u001b[39m\u001b[38;5;241m.\u001b[39m_call(\u001b[38;5;241m*\u001b[39margs, \u001b[38;5;241m*\u001b[39m\u001b[38;5;241m*\u001b[39mkwds)\n\u001b[0;32m    835\u001b[0m new_tracing_count \u001b[38;5;241m=\u001b[39m \u001b[38;5;28mself\u001b[39m\u001b[38;5;241m.\u001b[39mexperimental_get_tracing_count()\n\u001b[0;32m    836\u001b[0m without_tracing \u001b[38;5;241m=\u001b[39m (tracing_count \u001b[38;5;241m==\u001b[39m new_tracing_count)\n",
            "File \u001b[1;32mc:\\Users\\Carlos\\anaconda3\\envs\\DS_2324\\Lib\\site-packages\\tensorflow\\python\\eager\\polymorphic_function\\polymorphic_function.py:878\u001b[0m, in \u001b[0;36mFunction._call\u001b[1;34m(self, *args, **kwds)\u001b[0m\n\u001b[0;32m    875\u001b[0m \u001b[38;5;28mself\u001b[39m\u001b[38;5;241m.\u001b[39m_lock\u001b[38;5;241m.\u001b[39mrelease()\n\u001b[0;32m    876\u001b[0m \u001b[38;5;66;03m# In this case we have not created variables on the first call. So we can\u001b[39;00m\n\u001b[0;32m    877\u001b[0m \u001b[38;5;66;03m# run the first trace but we should fail if variables are created.\u001b[39;00m\n\u001b[1;32m--> 878\u001b[0m results \u001b[38;5;241m=\u001b[39m tracing_compilation\u001b[38;5;241m.\u001b[39mcall_function(\n\u001b[0;32m    879\u001b[0m     args, kwds, \u001b[38;5;28mself\u001b[39m\u001b[38;5;241m.\u001b[39m_variable_creation_config\n\u001b[0;32m    880\u001b[0m )\n\u001b[0;32m    881\u001b[0m \u001b[38;5;28;01mif\u001b[39;00m \u001b[38;5;28mself\u001b[39m\u001b[38;5;241m.\u001b[39m_created_variables:\n\u001b[0;32m    882\u001b[0m   \u001b[38;5;28;01mraise\u001b[39;00m \u001b[38;5;167;01mValueError\u001b[39;00m(\u001b[38;5;124m\"\u001b[39m\u001b[38;5;124mCreating variables on a non-first call to a function\u001b[39m\u001b[38;5;124m\"\u001b[39m\n\u001b[0;32m    883\u001b[0m                    \u001b[38;5;124m\"\u001b[39m\u001b[38;5;124m decorated with tf.function.\u001b[39m\u001b[38;5;124m\"\u001b[39m)\n",
            "File \u001b[1;32mc:\\Users\\Carlos\\anaconda3\\envs\\DS_2324\\Lib\\site-packages\\tensorflow\\python\\eager\\polymorphic_function\\tracing_compilation.py:139\u001b[0m, in \u001b[0;36mcall_function\u001b[1;34m(args, kwargs, tracing_options)\u001b[0m\n\u001b[0;32m    137\u001b[0m bound_args \u001b[38;5;241m=\u001b[39m function\u001b[38;5;241m.\u001b[39mfunction_type\u001b[38;5;241m.\u001b[39mbind(\u001b[38;5;241m*\u001b[39margs, \u001b[38;5;241m*\u001b[39m\u001b[38;5;241m*\u001b[39mkwargs)\n\u001b[0;32m    138\u001b[0m flat_inputs \u001b[38;5;241m=\u001b[39m function\u001b[38;5;241m.\u001b[39mfunction_type\u001b[38;5;241m.\u001b[39munpack_inputs(bound_args)\n\u001b[1;32m--> 139\u001b[0m \u001b[38;5;28;01mreturn\u001b[39;00m function\u001b[38;5;241m.\u001b[39m_call_flat(  \u001b[38;5;66;03m# pylint: disable=protected-access\u001b[39;00m\n\u001b[0;32m    140\u001b[0m     flat_inputs, captured_inputs\u001b[38;5;241m=\u001b[39mfunction\u001b[38;5;241m.\u001b[39mcaptured_inputs\n\u001b[0;32m    141\u001b[0m )\n",
            "File \u001b[1;32mc:\\Users\\Carlos\\anaconda3\\envs\\DS_2324\\Lib\\site-packages\\tensorflow\\python\\eager\\polymorphic_function\\concrete_function.py:1322\u001b[0m, in \u001b[0;36mConcreteFunction._call_flat\u001b[1;34m(self, tensor_inputs, captured_inputs)\u001b[0m\n\u001b[0;32m   1318\u001b[0m possible_gradient_type \u001b[38;5;241m=\u001b[39m gradients_util\u001b[38;5;241m.\u001b[39mPossibleTapeGradientTypes(args)\n\u001b[0;32m   1319\u001b[0m \u001b[38;5;28;01mif\u001b[39;00m (possible_gradient_type \u001b[38;5;241m==\u001b[39m gradients_util\u001b[38;5;241m.\u001b[39mPOSSIBLE_GRADIENT_TYPES_NONE\n\u001b[0;32m   1320\u001b[0m     \u001b[38;5;129;01mand\u001b[39;00m executing_eagerly):\n\u001b[0;32m   1321\u001b[0m   \u001b[38;5;66;03m# No tape is watching; skip to running the function.\u001b[39;00m\n\u001b[1;32m-> 1322\u001b[0m   \u001b[38;5;28;01mreturn\u001b[39;00m \u001b[38;5;28mself\u001b[39m\u001b[38;5;241m.\u001b[39m_inference_function\u001b[38;5;241m.\u001b[39mcall_preflattened(args)\n\u001b[0;32m   1323\u001b[0m forward_backward \u001b[38;5;241m=\u001b[39m \u001b[38;5;28mself\u001b[39m\u001b[38;5;241m.\u001b[39m_select_forward_and_backward_functions(\n\u001b[0;32m   1324\u001b[0m     args,\n\u001b[0;32m   1325\u001b[0m     possible_gradient_type,\n\u001b[0;32m   1326\u001b[0m     executing_eagerly)\n\u001b[0;32m   1327\u001b[0m forward_function, args_with_tangents \u001b[38;5;241m=\u001b[39m forward_backward\u001b[38;5;241m.\u001b[39mforward()\n",
            "File \u001b[1;32mc:\\Users\\Carlos\\anaconda3\\envs\\DS_2324\\Lib\\site-packages\\tensorflow\\python\\eager\\polymorphic_function\\atomic_function.py:216\u001b[0m, in \u001b[0;36mAtomicFunction.call_preflattened\u001b[1;34m(self, args)\u001b[0m\n\u001b[0;32m    214\u001b[0m \u001b[38;5;28;01mdef\u001b[39;00m \u001b[38;5;21mcall_preflattened\u001b[39m(\u001b[38;5;28mself\u001b[39m, args: Sequence[core\u001b[38;5;241m.\u001b[39mTensor]) \u001b[38;5;241m-\u001b[39m\u001b[38;5;241m>\u001b[39m Any:\n\u001b[0;32m    215\u001b[0m \u001b[38;5;250m  \u001b[39m\u001b[38;5;124;03m\"\"\"Calls with flattened tensor inputs and returns the structured output.\"\"\"\u001b[39;00m\n\u001b[1;32m--> 216\u001b[0m   flat_outputs \u001b[38;5;241m=\u001b[39m \u001b[38;5;28mself\u001b[39m\u001b[38;5;241m.\u001b[39mcall_flat(\u001b[38;5;241m*\u001b[39margs)\n\u001b[0;32m    217\u001b[0m   \u001b[38;5;28;01mreturn\u001b[39;00m \u001b[38;5;28mself\u001b[39m\u001b[38;5;241m.\u001b[39mfunction_type\u001b[38;5;241m.\u001b[39mpack_output(flat_outputs)\n",
            "File \u001b[1;32mc:\\Users\\Carlos\\anaconda3\\envs\\DS_2324\\Lib\\site-packages\\tensorflow\\python\\eager\\polymorphic_function\\atomic_function.py:251\u001b[0m, in \u001b[0;36mAtomicFunction.call_flat\u001b[1;34m(self, *args)\u001b[0m\n\u001b[0;32m    249\u001b[0m \u001b[38;5;28;01mwith\u001b[39;00m record\u001b[38;5;241m.\u001b[39mstop_recording():\n\u001b[0;32m    250\u001b[0m   \u001b[38;5;28;01mif\u001b[39;00m \u001b[38;5;28mself\u001b[39m\u001b[38;5;241m.\u001b[39m_bound_context\u001b[38;5;241m.\u001b[39mexecuting_eagerly():\n\u001b[1;32m--> 251\u001b[0m     outputs \u001b[38;5;241m=\u001b[39m \u001b[38;5;28mself\u001b[39m\u001b[38;5;241m.\u001b[39m_bound_context\u001b[38;5;241m.\u001b[39mcall_function(\n\u001b[0;32m    252\u001b[0m         \u001b[38;5;28mself\u001b[39m\u001b[38;5;241m.\u001b[39mname,\n\u001b[0;32m    253\u001b[0m         \u001b[38;5;28mlist\u001b[39m(args),\n\u001b[0;32m    254\u001b[0m         \u001b[38;5;28mlen\u001b[39m(\u001b[38;5;28mself\u001b[39m\u001b[38;5;241m.\u001b[39mfunction_type\u001b[38;5;241m.\u001b[39mflat_outputs),\n\u001b[0;32m    255\u001b[0m     )\n\u001b[0;32m    256\u001b[0m   \u001b[38;5;28;01melse\u001b[39;00m:\n\u001b[0;32m    257\u001b[0m     outputs \u001b[38;5;241m=\u001b[39m make_call_op_in_graph(\n\u001b[0;32m    258\u001b[0m         \u001b[38;5;28mself\u001b[39m,\n\u001b[0;32m    259\u001b[0m         \u001b[38;5;28mlist\u001b[39m(args),\n\u001b[0;32m    260\u001b[0m         \u001b[38;5;28mself\u001b[39m\u001b[38;5;241m.\u001b[39m_bound_context\u001b[38;5;241m.\u001b[39mfunction_call_options\u001b[38;5;241m.\u001b[39mas_attrs(),\n\u001b[0;32m    261\u001b[0m     )\n",
            "File \u001b[1;32mc:\\Users\\Carlos\\anaconda3\\envs\\DS_2324\\Lib\\site-packages\\tensorflow\\python\\eager\\context.py:1500\u001b[0m, in \u001b[0;36mContext.call_function\u001b[1;34m(self, name, tensor_inputs, num_outputs)\u001b[0m\n\u001b[0;32m   1498\u001b[0m cancellation_context \u001b[38;5;241m=\u001b[39m cancellation\u001b[38;5;241m.\u001b[39mcontext()\n\u001b[0;32m   1499\u001b[0m \u001b[38;5;28;01mif\u001b[39;00m cancellation_context \u001b[38;5;129;01mis\u001b[39;00m \u001b[38;5;28;01mNone\u001b[39;00m:\n\u001b[1;32m-> 1500\u001b[0m   outputs \u001b[38;5;241m=\u001b[39m execute\u001b[38;5;241m.\u001b[39mexecute(\n\u001b[0;32m   1501\u001b[0m       name\u001b[38;5;241m.\u001b[39mdecode(\u001b[38;5;124m\"\u001b[39m\u001b[38;5;124mutf-8\u001b[39m\u001b[38;5;124m\"\u001b[39m),\n\u001b[0;32m   1502\u001b[0m       num_outputs\u001b[38;5;241m=\u001b[39mnum_outputs,\n\u001b[0;32m   1503\u001b[0m       inputs\u001b[38;5;241m=\u001b[39mtensor_inputs,\n\u001b[0;32m   1504\u001b[0m       attrs\u001b[38;5;241m=\u001b[39mattrs,\n\u001b[0;32m   1505\u001b[0m       ctx\u001b[38;5;241m=\u001b[39m\u001b[38;5;28mself\u001b[39m,\n\u001b[0;32m   1506\u001b[0m   )\n\u001b[0;32m   1507\u001b[0m \u001b[38;5;28;01melse\u001b[39;00m:\n\u001b[0;32m   1508\u001b[0m   outputs \u001b[38;5;241m=\u001b[39m execute\u001b[38;5;241m.\u001b[39mexecute_with_cancellation(\n\u001b[0;32m   1509\u001b[0m       name\u001b[38;5;241m.\u001b[39mdecode(\u001b[38;5;124m\"\u001b[39m\u001b[38;5;124mutf-8\u001b[39m\u001b[38;5;124m\"\u001b[39m),\n\u001b[0;32m   1510\u001b[0m       num_outputs\u001b[38;5;241m=\u001b[39mnum_outputs,\n\u001b[1;32m   (...)\u001b[0m\n\u001b[0;32m   1514\u001b[0m       cancellation_manager\u001b[38;5;241m=\u001b[39mcancellation_context,\n\u001b[0;32m   1515\u001b[0m   )\n",
            "File \u001b[1;32mc:\\Users\\Carlos\\anaconda3\\envs\\DS_2324\\Lib\\site-packages\\tensorflow\\python\\eager\\execute.py:53\u001b[0m, in \u001b[0;36mquick_execute\u001b[1;34m(op_name, num_outputs, inputs, attrs, ctx, name)\u001b[0m\n\u001b[0;32m     51\u001b[0m \u001b[38;5;28;01mtry\u001b[39;00m:\n\u001b[0;32m     52\u001b[0m   ctx\u001b[38;5;241m.\u001b[39mensure_initialized()\n\u001b[1;32m---> 53\u001b[0m   tensors \u001b[38;5;241m=\u001b[39m pywrap_tfe\u001b[38;5;241m.\u001b[39mTFE_Py_Execute(ctx\u001b[38;5;241m.\u001b[39m_handle, device_name, op_name,\n\u001b[0;32m     54\u001b[0m                                       inputs, attrs, num_outputs)\n\u001b[0;32m     55\u001b[0m \u001b[38;5;28;01mexcept\u001b[39;00m core\u001b[38;5;241m.\u001b[39m_NotOkStatusException \u001b[38;5;28;01mas\u001b[39;00m e:\n\u001b[0;32m     56\u001b[0m   \u001b[38;5;28;01mif\u001b[39;00m name \u001b[38;5;129;01mis\u001b[39;00m \u001b[38;5;129;01mnot\u001b[39;00m \u001b[38;5;28;01mNone\u001b[39;00m:\n",
            "\u001b[1;31mKeyboardInterrupt\u001b[0m: "
          ]
        }
      ],
      "source": [
        "history_2 = model_2.fit(x_train_2,\n",
        "                        train_labels_2_encoded,\n",
        "                        epochs=20,\n",
        "                        batch_size=1024,\n",
        "                        validation_data=(x_test_2, test_labels_2_encoded))\n"
      ]
    },
    {
      "cell_type": "code",
      "execution_count": null,
      "metadata": {
        "id": "8rmjSh8Dqbjr"
      },
      "outputs": [],
      "source": [
        "\n",
        "val_acc_train_2 = history_2.history['accuracy']\n",
        "val_acc_test_2 = history_2.history['val_accuracy']\n"
      ]
    },
    {
      "cell_type": "code",
      "execution_count": null,
      "metadata": {
        "id": "Ikpw19MBqbjr"
      },
      "outputs": [],
      "source": [
        "\n",
        "results_2 = model_2.evaluate(x_test_2, test_labels_2)\n",
        "\n"
      ]
    },
    {
      "cell_type": "markdown",
      "source": [
        "## RNN con yelp_review_full_csv (ejecución en la nube)"
      ],
      "metadata": {
        "id": "cYkPcFjCuQUl"
      }
    },
    {
      "cell_type": "code",
      "source": [
        "from keras.utils import to_categorical\n",
        "from tensorflow.keras.preprocessing.text import Tokenizer"
      ],
      "metadata": {
        "id": "2F7RRV6urtVd"
      },
      "execution_count": 13,
      "outputs": []
    },
    {
      "cell_type": "code",
      "source": [
        "!wget https://s3.amazonaws.com/fast-ai-nlp/yelp_review_full_csv.tgz"
      ],
      "metadata": {
        "colab": {
          "base_uri": "https://localhost:8080/"
        },
        "id": "ZqBXaBcrr9Pa",
        "outputId": "0960402d-da43-4c78-84d8-5ec47c46c304"
      },
      "execution_count": 14,
      "outputs": [
        {
          "output_type": "stream",
          "name": "stdout",
          "text": [
            "--2024-04-15 21:35:31--  https://s3.amazonaws.com/fast-ai-nlp/yelp_review_full_csv.tgz\n",
            "Resolving s3.amazonaws.com (s3.amazonaws.com)... 52.217.124.64, 52.216.56.200, 52.216.49.152, ...\n",
            "Connecting to s3.amazonaws.com (s3.amazonaws.com)|52.217.124.64|:443... connected.\n",
            "HTTP request sent, awaiting response... 200 OK\n",
            "Length: 196146755 (187M) [application/x-tar]\n",
            "Saving to: ‘yelp_review_full_csv.tgz’\n",
            "\n",
            "yelp_review_full_cs 100%[===================>] 187.06M  34.1MB/s    in 5.4s    \n",
            "\n",
            "2024-04-15 21:35:36 (34.5 MB/s) - ‘yelp_review_full_csv.tgz’ saved [196146755/196146755]\n",
            "\n"
          ]
        }
      ]
    },
    {
      "cell_type": "code",
      "source": [
        " !tar -xvzf yelp_review_full_csv.tgz"
      ],
      "metadata": {
        "colab": {
          "base_uri": "https://localhost:8080/"
        },
        "id": "ihjfFpDQsACI",
        "outputId": "60ee53ab-148d-44f9-8c1d-bdb930aedf31"
      },
      "execution_count": 15,
      "outputs": [
        {
          "output_type": "stream",
          "name": "stdout",
          "text": [
            "yelp_review_full_csv/\n",
            "yelp_review_full_csv/train.csv\n",
            "yelp_review_full_csv/readme.txt\n",
            "yelp_review_full_csv/test.csv\n"
          ]
        }
      ]
    },
    {
      "cell_type": "code",
      "source": [
        "train_yelp = pd.read_csv('yelp_review_full_csv/train.csv', header=None)\n",
        "test_yelp  = pd.read_csv('yelp_review_full_csv/test.csv', header=None)\n",
        "# Mezclar los datos\n",
        "train_yelp = train_yelp.sample(frac=1).reset_index(drop=True)\n",
        "test_yelp = test_yelp.sample(frac=1).reset_index(drop=True)\n",
        "\n",
        "train_yelp.head()\n",
        "#test_yelp.head()"
      ],
      "metadata": {
        "colab": {
          "base_uri": "https://localhost:8080/",
          "height": 206
        },
        "id": "GjpP9xQysBdB",
        "outputId": "407dd4c8-add6-4de9-ce35-4764bf9d3f7e"
      },
      "execution_count": 16,
      "outputs": [
        {
          "output_type": "execute_result",
          "data": {
            "text/plain": [
              "   0                                                  1\n",
              "0  1  20 minutes to make a sandwhich and acting like...\n",
              "1  2  OMFG!!!!    this place is a dump!!!  i should ...\n",
              "2  1  Watch out! The bartenders change the price of ...\n",
              "3  4  I'm addicted to the Canarias! The achta is jus...\n",
              "4  1  This place has lousy service, even by K-Mart's..."
            ],
            "text/html": [
              "\n",
              "  <div id=\"df-37a48a4f-3c79-4321-90c4-c98cd79351e0\" class=\"colab-df-container\">\n",
              "    <div>\n",
              "<style scoped>\n",
              "    .dataframe tbody tr th:only-of-type {\n",
              "        vertical-align: middle;\n",
              "    }\n",
              "\n",
              "    .dataframe tbody tr th {\n",
              "        vertical-align: top;\n",
              "    }\n",
              "\n",
              "    .dataframe thead th {\n",
              "        text-align: right;\n",
              "    }\n",
              "</style>\n",
              "<table border=\"1\" class=\"dataframe\">\n",
              "  <thead>\n",
              "    <tr style=\"text-align: right;\">\n",
              "      <th></th>\n",
              "      <th>0</th>\n",
              "      <th>1</th>\n",
              "    </tr>\n",
              "  </thead>\n",
              "  <tbody>\n",
              "    <tr>\n",
              "      <th>0</th>\n",
              "      <td>1</td>\n",
              "      <td>20 minutes to make a sandwhich and acting like...</td>\n",
              "    </tr>\n",
              "    <tr>\n",
              "      <th>1</th>\n",
              "      <td>2</td>\n",
              "      <td>OMFG!!!!    this place is a dump!!!  i should ...</td>\n",
              "    </tr>\n",
              "    <tr>\n",
              "      <th>2</th>\n",
              "      <td>1</td>\n",
              "      <td>Watch out! The bartenders change the price of ...</td>\n",
              "    </tr>\n",
              "    <tr>\n",
              "      <th>3</th>\n",
              "      <td>4</td>\n",
              "      <td>I'm addicted to the Canarias! The achta is jus...</td>\n",
              "    </tr>\n",
              "    <tr>\n",
              "      <th>4</th>\n",
              "      <td>1</td>\n",
              "      <td>This place has lousy service, even by K-Mart's...</td>\n",
              "    </tr>\n",
              "  </tbody>\n",
              "</table>\n",
              "</div>\n",
              "    <div class=\"colab-df-buttons\">\n",
              "\n",
              "  <div class=\"colab-df-container\">\n",
              "    <button class=\"colab-df-convert\" onclick=\"convertToInteractive('df-37a48a4f-3c79-4321-90c4-c98cd79351e0')\"\n",
              "            title=\"Convert this dataframe to an interactive table.\"\n",
              "            style=\"display:none;\">\n",
              "\n",
              "  <svg xmlns=\"http://www.w3.org/2000/svg\" height=\"24px\" viewBox=\"0 -960 960 960\">\n",
              "    <path d=\"M120-120v-720h720v720H120Zm60-500h600v-160H180v160Zm220 220h160v-160H400v160Zm0 220h160v-160H400v160ZM180-400h160v-160H180v160Zm440 0h160v-160H620v160ZM180-180h160v-160H180v160Zm440 0h160v-160H620v160Z\"/>\n",
              "  </svg>\n",
              "    </button>\n",
              "\n",
              "  <style>\n",
              "    .colab-df-container {\n",
              "      display:flex;\n",
              "      gap: 12px;\n",
              "    }\n",
              "\n",
              "    .colab-df-convert {\n",
              "      background-color: #E8F0FE;\n",
              "      border: none;\n",
              "      border-radius: 50%;\n",
              "      cursor: pointer;\n",
              "      display: none;\n",
              "      fill: #1967D2;\n",
              "      height: 32px;\n",
              "      padding: 0 0 0 0;\n",
              "      width: 32px;\n",
              "    }\n",
              "\n",
              "    .colab-df-convert:hover {\n",
              "      background-color: #E2EBFA;\n",
              "      box-shadow: 0px 1px 2px rgba(60, 64, 67, 0.3), 0px 1px 3px 1px rgba(60, 64, 67, 0.15);\n",
              "      fill: #174EA6;\n",
              "    }\n",
              "\n",
              "    .colab-df-buttons div {\n",
              "      margin-bottom: 4px;\n",
              "    }\n",
              "\n",
              "    [theme=dark] .colab-df-convert {\n",
              "      background-color: #3B4455;\n",
              "      fill: #D2E3FC;\n",
              "    }\n",
              "\n",
              "    [theme=dark] .colab-df-convert:hover {\n",
              "      background-color: #434B5C;\n",
              "      box-shadow: 0px 1px 3px 1px rgba(0, 0, 0, 0.15);\n",
              "      filter: drop-shadow(0px 1px 2px rgba(0, 0, 0, 0.3));\n",
              "      fill: #FFFFFF;\n",
              "    }\n",
              "  </style>\n",
              "\n",
              "    <script>\n",
              "      const buttonEl =\n",
              "        document.querySelector('#df-37a48a4f-3c79-4321-90c4-c98cd79351e0 button.colab-df-convert');\n",
              "      buttonEl.style.display =\n",
              "        google.colab.kernel.accessAllowed ? 'block' : 'none';\n",
              "\n",
              "      async function convertToInteractive(key) {\n",
              "        const element = document.querySelector('#df-37a48a4f-3c79-4321-90c4-c98cd79351e0');\n",
              "        const dataTable =\n",
              "          await google.colab.kernel.invokeFunction('convertToInteractive',\n",
              "                                                    [key], {});\n",
              "        if (!dataTable) return;\n",
              "\n",
              "        const docLinkHtml = 'Like what you see? Visit the ' +\n",
              "          '<a target=\"_blank\" href=https://colab.research.google.com/notebooks/data_table.ipynb>data table notebook</a>'\n",
              "          + ' to learn more about interactive tables.';\n",
              "        element.innerHTML = '';\n",
              "        dataTable['output_type'] = 'display_data';\n",
              "        await google.colab.output.renderOutput(dataTable, element);\n",
              "        const docLink = document.createElement('div');\n",
              "        docLink.innerHTML = docLinkHtml;\n",
              "        element.appendChild(docLink);\n",
              "      }\n",
              "    </script>\n",
              "  </div>\n",
              "\n",
              "\n",
              "<div id=\"df-18e7db6c-23a3-47aa-b2e3-92f79deefd16\">\n",
              "  <button class=\"colab-df-quickchart\" onclick=\"quickchart('df-18e7db6c-23a3-47aa-b2e3-92f79deefd16')\"\n",
              "            title=\"Suggest charts\"\n",
              "            style=\"display:none;\">\n",
              "\n",
              "<svg xmlns=\"http://www.w3.org/2000/svg\" height=\"24px\"viewBox=\"0 0 24 24\"\n",
              "     width=\"24px\">\n",
              "    <g>\n",
              "        <path d=\"M19 3H5c-1.1 0-2 .9-2 2v14c0 1.1.9 2 2 2h14c1.1 0 2-.9 2-2V5c0-1.1-.9-2-2-2zM9 17H7v-7h2v7zm4 0h-2V7h2v10zm4 0h-2v-4h2v4z\"/>\n",
              "    </g>\n",
              "</svg>\n",
              "  </button>\n",
              "\n",
              "<style>\n",
              "  .colab-df-quickchart {\n",
              "      --bg-color: #E8F0FE;\n",
              "      --fill-color: #1967D2;\n",
              "      --hover-bg-color: #E2EBFA;\n",
              "      --hover-fill-color: #174EA6;\n",
              "      --disabled-fill-color: #AAA;\n",
              "      --disabled-bg-color: #DDD;\n",
              "  }\n",
              "\n",
              "  [theme=dark] .colab-df-quickchart {\n",
              "      --bg-color: #3B4455;\n",
              "      --fill-color: #D2E3FC;\n",
              "      --hover-bg-color: #434B5C;\n",
              "      --hover-fill-color: #FFFFFF;\n",
              "      --disabled-bg-color: #3B4455;\n",
              "      --disabled-fill-color: #666;\n",
              "  }\n",
              "\n",
              "  .colab-df-quickchart {\n",
              "    background-color: var(--bg-color);\n",
              "    border: none;\n",
              "    border-radius: 50%;\n",
              "    cursor: pointer;\n",
              "    display: none;\n",
              "    fill: var(--fill-color);\n",
              "    height: 32px;\n",
              "    padding: 0;\n",
              "    width: 32px;\n",
              "  }\n",
              "\n",
              "  .colab-df-quickchart:hover {\n",
              "    background-color: var(--hover-bg-color);\n",
              "    box-shadow: 0 1px 2px rgba(60, 64, 67, 0.3), 0 1px 3px 1px rgba(60, 64, 67, 0.15);\n",
              "    fill: var(--button-hover-fill-color);\n",
              "  }\n",
              "\n",
              "  .colab-df-quickchart-complete:disabled,\n",
              "  .colab-df-quickchart-complete:disabled:hover {\n",
              "    background-color: var(--disabled-bg-color);\n",
              "    fill: var(--disabled-fill-color);\n",
              "    box-shadow: none;\n",
              "  }\n",
              "\n",
              "  .colab-df-spinner {\n",
              "    border: 2px solid var(--fill-color);\n",
              "    border-color: transparent;\n",
              "    border-bottom-color: var(--fill-color);\n",
              "    animation:\n",
              "      spin 1s steps(1) infinite;\n",
              "  }\n",
              "\n",
              "  @keyframes spin {\n",
              "    0% {\n",
              "      border-color: transparent;\n",
              "      border-bottom-color: var(--fill-color);\n",
              "      border-left-color: var(--fill-color);\n",
              "    }\n",
              "    20% {\n",
              "      border-color: transparent;\n",
              "      border-left-color: var(--fill-color);\n",
              "      border-top-color: var(--fill-color);\n",
              "    }\n",
              "    30% {\n",
              "      border-color: transparent;\n",
              "      border-left-color: var(--fill-color);\n",
              "      border-top-color: var(--fill-color);\n",
              "      border-right-color: var(--fill-color);\n",
              "    }\n",
              "    40% {\n",
              "      border-color: transparent;\n",
              "      border-right-color: var(--fill-color);\n",
              "      border-top-color: var(--fill-color);\n",
              "    }\n",
              "    60% {\n",
              "      border-color: transparent;\n",
              "      border-right-color: var(--fill-color);\n",
              "    }\n",
              "    80% {\n",
              "      border-color: transparent;\n",
              "      border-right-color: var(--fill-color);\n",
              "      border-bottom-color: var(--fill-color);\n",
              "    }\n",
              "    90% {\n",
              "      border-color: transparent;\n",
              "      border-bottom-color: var(--fill-color);\n",
              "    }\n",
              "  }\n",
              "</style>\n",
              "\n",
              "  <script>\n",
              "    async function quickchart(key) {\n",
              "      const quickchartButtonEl =\n",
              "        document.querySelector('#' + key + ' button');\n",
              "      quickchartButtonEl.disabled = true;  // To prevent multiple clicks.\n",
              "      quickchartButtonEl.classList.add('colab-df-spinner');\n",
              "      try {\n",
              "        const charts = await google.colab.kernel.invokeFunction(\n",
              "            'suggestCharts', [key], {});\n",
              "      } catch (error) {\n",
              "        console.error('Error during call to suggestCharts:', error);\n",
              "      }\n",
              "      quickchartButtonEl.classList.remove('colab-df-spinner');\n",
              "      quickchartButtonEl.classList.add('colab-df-quickchart-complete');\n",
              "    }\n",
              "    (() => {\n",
              "      let quickchartButtonEl =\n",
              "        document.querySelector('#df-18e7db6c-23a3-47aa-b2e3-92f79deefd16 button');\n",
              "      quickchartButtonEl.style.display =\n",
              "        google.colab.kernel.accessAllowed ? 'block' : 'none';\n",
              "    })();\n",
              "  </script>\n",
              "</div>\n",
              "    </div>\n",
              "  </div>\n"
            ],
            "application/vnd.google.colaboratory.intrinsic+json": {
              "type": "dataframe",
              "summary": "{\n  \"name\": \"#test_yelp\",\n  \"rows\": 5,\n  \"fields\": [\n    {\n      \"column\": 0,\n      \"properties\": {\n        \"dtype\": \"number\",\n        \"std\": 1,\n        \"min\": 1,\n        \"max\": 4,\n        \"num_unique_values\": 3,\n        \"samples\": [\n          1,\n          2,\n          4\n        ],\n        \"semantic_type\": \"\",\n        \"description\": \"\"\n      }\n    },\n    {\n      \"column\": 1,\n      \"properties\": {\n        \"dtype\": \"string\",\n        \"num_unique_values\": 5,\n        \"samples\": [\n          \"OMFG!!!!    this place is a dump!!!  i should stop trying to be cheap!!!\",\n          \"This place has lousy service, even by K-Mart's low standards.  It's bad enough that they're in a sketchy neighborhood, with clientele to match, but the service is virtually non-existent.\",\n          \"Watch out! The bartenders change the price of drinks. We ordered the same drink three times and got three different totals. The staff is REALLY rude! All of then seem annoyed to work there. I have to assume its poor management.\"\n        ],\n        \"semantic_type\": \"\",\n        \"description\": \"\"\n      }\n    }\n  ]\n}"
            }
          },
          "metadata": {},
          "execution_count": 16
        }
      ]
    },
    {
      "cell_type": "code",
      "source": [
        "# Separar características (data) y etiquetas (labels) para train\n",
        "train_labels_4 = train_yelp.iloc[:, 0]  # La primera columna contiene las etiquetas\n",
        "train_data_4 = train_yelp.iloc[:, 1]  # Las características están en todas las columnas excepto la primera\n",
        "\n",
        "# Separar características (data) y etiquetas (labels) para test\n",
        "test_labels_4 = test_yelp.iloc[:, 0]  # La primera columna contiene las etiquetas\n",
        "test_data_4 = test_yelp.iloc[:, 1]  # Las características están en todas las columnas excepto la primera\n",
        "\n",
        "# Verificar el tamaño de las muestras\n",
        "print(\"Tamaño del conjunto de entrenamiento (data):\", len(train_data_4))\n",
        "print(\"Tamaño del conjunto de entrenamiento (labels):\", len(train_labels_4))\n",
        "print(\"Tamaño del conjunto de prueba (data):\", len(test_data_4))\n",
        "print(\"Tamaño del conjunto de prueba (labels):\", len(test_labels_4))"
      ],
      "metadata": {
        "colab": {
          "base_uri": "https://localhost:8080/"
        },
        "id": "d5bJSzNdsCBZ",
        "outputId": "1ebd24a0-de04-4137-b599-1891274cbdb7"
      },
      "execution_count": 17,
      "outputs": [
        {
          "output_type": "stream",
          "name": "stdout",
          "text": [
            "Tamaño del conjunto de entrenamiento (data): 650000\n",
            "Tamaño del conjunto de entrenamiento (labels): 650000\n",
            "Tamaño del conjunto de prueba (data): 50000\n",
            "Tamaño del conjunto de prueba (labels): 50000\n"
          ]
        }
      ]
    },
    {
      "cell_type": "markdown",
      "source": [
        "Entre otras cosas, a continuación vamos a reclasificar las reseñas en buenas (1) mediocres (2,3,4) y buenas (5), pasando de 5 a 3 clases. Esto se hacer por motivos de cómputo, pues es una RNN con análisis de sentimientos/sensaciones. Usamos palabras clave de reseñas para determinar que tan bueno es algo, siendo mucho más dificil atinar con 5 que con 3 clases. Al tener recursos limitados simplificamos un poco el proceso."
      ],
      "metadata": {
        "id": "gSDTMrZjsGU-"
      }
    },
    {
      "cell_type": "code",
      "source": [
        "# Reemplazar las clases 2, 3 y 4 por la nueva clase 2, y la clase 5 por la nueva clase 3\n",
        "train_labels_4_replaced = train_labels_4.replace({2: 2, 3: 2, 4: 2, 5: 3})\n",
        "test_labels_4_replaced = test_labels_4.replace({2: 2, 3: 2, 4: 2, 5: 3})\n",
        "\n",
        "\n",
        "# Convertir train_labels_4_replaced a one-hot encoding\n",
        "train_labels_4_encoded = to_categorical(train_labels_4_replaced - 1)\n",
        "# Convertir test_labels_4_replaced a one-hot encoding\n",
        "test_labels_4_encoded = to_categorical(test_labels_4_replaced - 1)\n",
        "\n"
      ],
      "metadata": {
        "id": "uN45PLqysHCw"
      },
      "execution_count": 18,
      "outputs": []
    },
    {
      "cell_type": "code",
      "source": [
        "maxlen_4 = 80\n",
        "max_num_words= 500\n",
        "ignore_top_words= 10\n",
        "\n",
        "# Inicializa un Tokenizer\n",
        "tokenizer = Tokenizer(num_words=max_num_words)\n",
        "\n",
        "# Ajusta el Tokenizer a tus datos de entrenamiento\n",
        "tokenizer.fit_on_texts(train_data_4)\n",
        "\n",
        "# Get the word counts\n",
        "word_counts = tokenizer.word_counts\n",
        "\n",
        "# Sort the word counts and get the 10 most common words\n",
        "most_common_words = sorted(word_counts.items(), key=lambda x: x[1], reverse=True)[:ignore_top_words]\n",
        "most_common_words = [word for word, count in most_common_words]\n",
        "\n",
        "# Adjust the word index of the tokenizer\n",
        "for word in most_common_words:\n",
        "    del tokenizer.word_index[word]\n",
        "    del tokenizer.word_docs[word]\n",
        "    del tokenizer.word_counts[word]\n",
        "\n",
        "# Now you can convert your texts into sequences\n",
        "train_data_4_token = tokenizer.texts_to_sequences(train_data_4)\n",
        "test_data_4_token  = tokenizer.texts_to_sequences(test_data_4)\n",
        "\n",
        "# Ahora puedes aplicar sequence.pad_sequences\n",
        "x_train_4 = sequence.pad_sequences(train_data_4_token, maxlen=maxlen_4)\n",
        "x_test_4 = sequence.pad_sequences(test_data_4_token, maxlen=maxlen_4)"
      ],
      "metadata": {
        "id": "GE5NQpG3sKyM"
      },
      "execution_count": 19,
      "outputs": []
    },
    {
      "cell_type": "code",
      "source": [
        "max_words = 500\n",
        "embedding_dim = 50\n",
        "num_classes = 3\n",
        "\n",
        "# Definir el modelo\n",
        "model_4 = models.Sequential()\n",
        "model_4.add(layers.Embedding(input_dim=maxlen_4, output_dim=embedding_dim))\n",
        "model_4.add(layers.SimpleRNN(64))  # Reemplaza Flatten con LSTM\n",
        "model_4.add(Dropout(0.3))  # Añade Dropout después de LSTM\n",
        "model_4.add(layers.Dense(128, activation='relu', kernel_regularizer=regularizers.l2(0.01)))\n",
        "model_4.add(Dropout(0.3))\n",
        "model_4.add(layers.Dense(num_classes, activation='softmax'))\n",
        "\n",
        "# Compilar el modelo\n",
        "model_4.compile(optimizer='adam', loss='categorical_crossentropy', metrics=['accuracy'])"
      ],
      "metadata": {
        "id": "REi1t4bYsO03"
      },
      "execution_count": 22,
      "outputs": []
    },
    {
      "cell_type": "code",
      "source": [
        "model_4.summary()\n",
        "\n",
        "history_4 = model_4.fit(x_train_4,\n",
        "                        train_labels_4_encoded,\n",
        "                        epochs=20,\n",
        "                        batch_size=16384,\n",
        "                        validation_data=(x_test_4, test_labels_4_encoded))"
      ],
      "metadata": {
        "colab": {
          "base_uri": "https://localhost:8080/"
        },
        "id": "e8cmV2FRtFmN",
        "outputId": "268ae865-822f-461b-9cae-400094c6e0fc"
      },
      "execution_count": 23,
      "outputs": [
        {
          "output_type": "stream",
          "name": "stdout",
          "text": [
            "Model: \"sequential_5\"\n",
            "_________________________________________________________________\n",
            " Layer (type)                Output Shape              Param #   \n",
            "=================================================================\n",
            " embedding_5 (Embedding)     (None, None, 50)          4000      \n",
            "                                                                 \n",
            " simple_rnn (SimpleRNN)      (None, 64)                7360      \n",
            "                                                                 \n",
            " dropout (Dropout)           (None, 64)                0         \n",
            "                                                                 \n",
            " dense_7 (Dense)             (None, 128)               8320      \n",
            "                                                                 \n",
            " dropout_1 (Dropout)         (None, 128)               0         \n",
            "                                                                 \n",
            " dense_8 (Dense)             (None, 3)                 387       \n",
            "                                                                 \n",
            "=================================================================\n",
            "Total params: 20067 (78.39 KB)\n",
            "Trainable params: 20067 (78.39 KB)\n",
            "Non-trainable params: 0 (0.00 Byte)\n",
            "_________________________________________________________________\n",
            "Epoch 1/20\n",
            "40/40 [==============================] - 8s 94ms/step - loss: 1.6022 - accuracy: 0.5857 - val_loss: 1.3718 - val_accuracy: 0.6000\n",
            "Epoch 2/20\n",
            "40/40 [==============================] - 3s 86ms/step - loss: 1.2422 - accuracy: 0.6001 - val_loss: 1.1163 - val_accuracy: 0.6033\n",
            "Epoch 3/20\n",
            "40/40 [==============================] - 5s 128ms/step - loss: 1.0407 - accuracy: 0.6097 - val_loss: 0.9600 - val_accuracy: 0.6260\n",
            "Epoch 4/20\n",
            "40/40 [==============================] - 5s 126ms/step - loss: 0.9169 - accuracy: 0.6328 - val_loss: 0.8884 - val_accuracy: 0.6373\n",
            "Epoch 5/20\n",
            "40/40 [==============================] - 4s 90ms/step - loss: 0.8451 - accuracy: 0.6421 - val_loss: 0.8130 - val_accuracy: 0.6525\n",
            "Epoch 6/20\n",
            "40/40 [==============================] - 4s 92ms/step - loss: 0.8091 - accuracy: 0.6503 - val_loss: 0.7953 - val_accuracy: 0.6555\n",
            "Epoch 7/20\n",
            "40/40 [==============================] - 6s 163ms/step - loss: 0.7975 - accuracy: 0.6523 - val_loss: 0.7872 - val_accuracy: 0.6556\n",
            "Epoch 8/20\n",
            "40/40 [==============================] - 4s 89ms/step - loss: 0.7923 - accuracy: 0.6529 - val_loss: 0.7882 - val_accuracy: 0.6556\n",
            "Epoch 9/20\n",
            "40/40 [==============================] - 4s 93ms/step - loss: 0.7907 - accuracy: 0.6531 - val_loss: 0.7830 - val_accuracy: 0.6558\n",
            "Epoch 10/20\n",
            "40/40 [==============================] - 4s 105ms/step - loss: 0.7871 - accuracy: 0.6544 - val_loss: 0.7805 - val_accuracy: 0.6577\n",
            "Epoch 11/20\n",
            "40/40 [==============================] - 6s 149ms/step - loss: 0.7876 - accuracy: 0.6536 - val_loss: 0.7789 - val_accuracy: 0.6572\n",
            "Epoch 12/20\n",
            "40/40 [==============================] - 4s 99ms/step - loss: 0.7856 - accuracy: 0.6546 - val_loss: 0.7808 - val_accuracy: 0.6551\n",
            "Epoch 13/20\n",
            "40/40 [==============================] - 4s 94ms/step - loss: 0.7850 - accuracy: 0.6543 - val_loss: 0.7768 - val_accuracy: 0.6582\n",
            "Epoch 14/20\n",
            "40/40 [==============================] - 6s 156ms/step - loss: 0.7833 - accuracy: 0.6553 - val_loss: 0.7822 - val_accuracy: 0.6544\n",
            "Epoch 15/20\n",
            "40/40 [==============================] - 4s 100ms/step - loss: 0.7859 - accuracy: 0.6536 - val_loss: 0.7789 - val_accuracy: 0.6567\n",
            "Epoch 16/20\n",
            "40/40 [==============================] - 4s 109ms/step - loss: 0.7834 - accuracy: 0.6549 - val_loss: 0.7760 - val_accuracy: 0.6580\n",
            "Epoch 17/20\n",
            "40/40 [==============================] - 4s 106ms/step - loss: 0.7820 - accuracy: 0.6559 - val_loss: 0.7750 - val_accuracy: 0.6595\n",
            "Epoch 18/20\n",
            "40/40 [==============================] - 6s 147ms/step - loss: 0.7818 - accuracy: 0.6561 - val_loss: 0.7760 - val_accuracy: 0.6582\n",
            "Epoch 19/20\n",
            "40/40 [==============================] - 4s 90ms/step - loss: 0.7809 - accuracy: 0.6562 - val_loss: 0.7736 - val_accuracy: 0.6599\n",
            "Epoch 20/20\n",
            "40/40 [==============================] - 3s 86ms/step - loss: 0.7803 - accuracy: 0.6570 - val_loss: 0.7740 - val_accuracy: 0.6592\n"
          ]
        }
      ]
    },
    {
      "cell_type": "code",
      "source": [
        "val_acc_train_4 = history_4.history['accuracy']\n",
        "val_acc_test_4 = history_4.history['val_accuracy']\n",
        "\n",
        "results_4 = model_4.evaluate(x_test_4, test_labels_4_encoded)"
      ],
      "metadata": {
        "colab": {
          "base_uri": "https://localhost:8080/"
        },
        "id": "o8bH864Htd4I",
        "outputId": "337f4859-928c-4b96-9e78-e94abba76a93"
      },
      "execution_count": 24,
      "outputs": [
        {
          "output_type": "stream",
          "name": "stdout",
          "text": [
            "1563/1563 [==============================] - 14s 9ms/step - loss: 0.7740 - accuracy: 0.6592\n"
          ]
        }
      ]
    },
    {
      "cell_type": "code",
      "source": [
        "import matplotlib.pyplot as plt\n",
        "epochs = range(1, len(val_acc_train_4) + 1)\n",
        "plt.plot(epochs, val_acc_train_4, 'r', label='Accuracy Train')\n",
        "plt.plot(epochs, val_acc_test_4,  'b', label='Accuracy Test')\n",
        "plt.title('Entrenamiento y Test (SimpleRNN)')\n",
        "plt.xlabel('Épocas')\n",
        "plt.ylabel('Accuracy')\n",
        "plt.legend()\n",
        "plt.grid()\n",
        "\n",
        "plt.show()"
      ],
      "metadata": {
        "colab": {
          "base_uri": "https://localhost:8080/",
          "height": 474
        },
        "id": "xj4KCS4gtfx9",
        "outputId": "8b32728f-42e4-4c73-a24a-aaa5313d8804"
      },
      "execution_count": 26,
      "outputs": [
        {
          "output_type": "display_data",
          "data": {
            "text/plain": [
              "<Figure size 640x480 with 1 Axes>"
            ],
            "image/png": "[encoded data removed]"
          },
          "metadata": {}
        }
      ]
    },
    {
      "cell_type": "markdown",
      "source": [
        "Esta es una primera aproximación a los modelos RNN. La precisión es mejorable, pero debido a limitaciones de google collab es lo mejor que puedo ofrecer por el momento"
      ],
      "metadata": {
        "id": "0VCJQNKSt_Rt"
      }
    }
  ],
  "metadata": {
    "kernelspec": {
      "display_name": "Python 3",
      "name": "python3"
    },
    "language_info": {
      "codemirror_mode": {
        "name": "ipython",
        "version": 3
      },
      "file_extension": ".py",
      "mimetype": "text/x-python",
      "name": "python",
      "nbconvert_exporter": "python",
      "pygments_lexer": "ipython3",
      "version": "3.11.5"
    },
    "colab": {
      "provenance": [],
      "gpuType": "T4"
    },
    "accelerator": "GPU"
  },
  "nbformat": 4,
  "nbformat_minor": 0
}