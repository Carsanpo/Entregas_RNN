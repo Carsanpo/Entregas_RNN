{
 "cells": [
  {
   "cell_type": "markdown",
   "metadata": {},
   "source": [
    "# Entregable 3 (RNN)\n",
    "Por `Carlos Sánchez Polo`\n",
    "\n",
    "Asignatura Deep Learning"
   ]
  },
  {
   "cell_type": "markdown",
   "metadata": {},
   "source": [
    "## Dataset 1\n",
    "\n",
    "Escoger uno de los tres datasets (datos reales no preparados por Keras o TensorFlow) y realizar lo que\n",
    "se especifique para cada uno de ellos.\n",
    "\n",
    "**Dataset1**\n",
    "* RNN para clasificación\n",
    "* Pensar como adaptar los datos (raw) para que sean secuencias de datos. Utilizar algún modelo recurrente para clasificar cada secuencia en una de las dos categorı́as."
   ]
  },
  {
   "cell_type": "code",
   "execution_count": 1,
   "metadata": {},
   "outputs": [],
   "source": [
    "import os"
   ]
  },
  {
   "cell_type": "code",
   "execution_count": 2,
   "metadata": {},
   "outputs": [],
   "source": [
    "path_selec = \"dataset1/\"\n",
    "\n",
    "file_paths = {\n",
    "    path_selec + \"TGFs_NO_BGO.txt\": [],\n",
    "    path_selec + \"TGFs_NO_CZT.txt\": [],\n",
    "    path_selec + \"TGFs_SI_BGO.txt\": [],\n",
    "    path_selec + \"TGFs_SI_CZT.txt\": []\n",
    "}\n",
    "\n",
    "for file_name in file_paths.keys():\n",
    "    with open(file_name, \"r\") as file:\n",
    "        for line in file:\n",
    "            file_paths[file_name].append(line.strip())\n",
    "\n",
    "TGFs_NO_BGO_list = file_paths[path_selec + \"TGFs_NO_BGO.txt\"]\n",
    "TGFs_NO_CZT_list = file_paths[path_selec + \"TGFs_NO_CZT.txt\"]\n",
    "TGFs_SI_BGO_list = file_paths[path_selec + \"TGFs_SI_BGO.txt\"]\n",
    "TGFs_SI_CZT_list = file_paths[path_selec + \"TGFs_SI_CZT.txt\"]\n"
   ]
  },
  {
   "cell_type": "code",
   "execution_count": 3,
   "metadata": {},
   "outputs": [],
   "source": [
    "list_SiNo = [TGFs_NO_BGO_list,\n",
    "             TGFs_NO_CZT_list,\n",
    "             TGFs_SI_BGO_list,\n",
    "             TGFs_SI_CZT_list]\n",
    "\n",
    "trigers_T = []\n",
    "for lista in list_SiNo:\n",
    "    trigers_T.extend(lista)\n"
   ]
  },
  {
   "cell_type": "code",
   "execution_count": 4,
   "metadata": {},
   "outputs": [],
   "source": [
    "path_output = \"dataset1/Output_counts\"\n",
    "archivos_output = os.listdir(path_output)\n",
    "\n",
    "trigers_T_set = set(trigers_T)\n",
    "archivos_output_set = set(archivos_output)\n",
    "\n",
    "trigers_F =[]\n",
    "trigers_F_set = archivos_output_set - trigers_T_set\n",
    "trigers_F = list(trigers_F_set)\n"
   ]
  },
  {
   "cell_type": "code",
   "execution_count": 5,
   "metadata": {},
   "outputs": [],
   "source": [
    "BGO_lista = [archivo for archivo in archivos_output if \"BGO\" in archivo]\n",
    "CZT_lista = [archivo for archivo in archivos_output if \"CZT\" in archivo]"
   ]
  },
  {
   "cell_type": "markdown",
   "metadata": {},
   "source": [
    "Ya tenemos buena parte de los archivos guardados en memoria de forma relativamente estructurada.\n",
    "\n",
    "La mayoría de los datos son del detector BGO. Vamos a centrarnos en ese tipo de detector. Tenemos 279 entradas de ese tipo. Hay 69 triggers verdaderos de ese detector y 59 triggers falsos (no corresponden a triggers de emisiones de rayos gamma)"
   ]
  }
 ],
 "metadata": {
  "kernelspec": {
   "display_name": "DS_2324",
   "language": "python",
   "name": "python3"
  },
  "language_info": {
   "codemirror_mode": {
    "name": "ipython",
    "version": 3
   },
   "file_extension": ".py",
   "mimetype": "text/x-python",
   "name": "python",
   "nbconvert_exporter": "python",
   "pygments_lexer": "ipython3",
   "version": "3.11.5"
  }
 },
 "nbformat": 4,
 "nbformat_minor": 2
}
