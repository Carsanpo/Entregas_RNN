{
 "cells": [
  {
   "cell_type": "markdown",
   "metadata": {},
   "source": [
    "# Entregable 3 (RNN)\n",
    "Por `Carlos Sánchez Polo`\n",
    "\n",
    "Asignatura Deep Learning"
   ]
  },
  {
   "cell_type": "markdown",
   "metadata": {},
   "source": [
    "## Dataset 1\n",
    "\n",
    "Escoger uno de los tres datasets (datos reales no preparados por Keras o TensorFlow) y realizar lo que\n",
    "se especifique para cada uno de ellos.\n",
    "\n",
    "**Dataset1**\n",
    "* RNN para clasificación\n",
    "* Pensar como adaptar los datos (raw) para que sean secuencias de datos. Utilizar algún modelo recurrente para clasificar cada secuencia en una de las dos categorı́as."
   ]
  },
  {
   "cell_type": "code",
   "execution_count": 6,
   "metadata": {},
   "outputs": [],
   "source": [
    "import os"
   ]
  },
  {
   "cell_type": "code",
   "execution_count": 2,
   "metadata": {},
   "outputs": [],
   "source": [
    "path_selec = \"dataset1/\"\n",
    "\n",
    "file_paths = {\n",
    "    path_selec + \"TGFs_NO_BGO.txt\": [],\n",
    "    path_selec + \"TGFs_NO_CZT.txt\": [],\n",
    "    path_selec + \"TGFs_SI_BGO.txt\": [],\n",
    "    path_selec + \"TGFs_SI_CZT.txt\": []\n",
    "}\n",
    "\n",
    "for file_name in file_paths.keys():\n",
    "    with open(file_name, \"r\") as file:\n",
    "        for line in file:\n",
    "            file_paths[file_name].append(line.strip())\n",
    "\n",
    "TGFs_NO_BGO_list = file_paths[path_selec + \"TGFs_NO_BGO.txt\"]\n",
    "TGFs_NO_CZT_list = file_paths[path_selec + \"TGFs_NO_CZT.txt\"]\n",
    "TGFs_SI_BGO_list = file_paths[path_selec + \"TGFs_SI_BGO.txt\"]\n",
    "TGFs_SI_CZT_list = file_paths[path_selec + \"TGFs_SI_CZT.txt\"]\n"
   ]
  },
  {
   "cell_type": "code",
   "execution_count": 12,
   "metadata": {},
   "outputs": [],
   "source": [
    "list_SiNo = [TGFs_NO_BGO_list,\n",
    "             TGFs_NO_CZT_list,\n",
    "             TGFs_SI_BGO_list,\n",
    "             TGFs_SI_CZT_list]\n",
    "\n",
    "Sindexados = []\n",
    "for lista in list_SiNo:\n",
    "    Sindexados.extend(lista)\n"
   ]
  },
  {
   "cell_type": "code",
   "execution_count": 13,
   "metadata": {},
   "outputs": [],
   "source": [
    "path_output = \"dataset1/Output_counts\"\n",
    "archivos_output = os.listdir(path_output)\n",
    "\n",
    "Sindexados_set = set(Sindexados)\n",
    "archivos_output_set = set(archivos_output)\n",
    "\n",
    "Nondexados =[]\n",
    "Nondexados_set = archivos_output_set - Sindexados_set\n",
    "Nondexados = list(Nondexados_set)\n",
    "\n",
    "\n"
   ]
  }
 ],
 "metadata": {
  "kernelspec": {
   "display_name": "DS_2324",
   "language": "python",
   "name": "python3"
  },
  "language_info": {
   "codemirror_mode": {
    "name": "ipython",
    "version": 3
   },
   "file_extension": ".py",
   "mimetype": "text/x-python",
   "name": "python",
   "nbconvert_exporter": "python",
   "pygments_lexer": "ipython3",
   "version": "3.11.5"
  }
 },
 "nbformat": 4,
 "nbformat_minor": 2
}
