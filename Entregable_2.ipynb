{
  "cells": [
    {
      "cell_type": "markdown",
      "source": [
        "# Entregable 2:\n",
        "\n",
        "\n",
        "Notebook de Carlos Sánchez Polo"
      ],
      "metadata": {
        "id": "9KsbY2EpiKXS"
      }
    },
    {
      "cell_type": "markdown",
      "source": [
        "En el siguiente Notebook vamos a implementar un par de Redes Neuronales Recurrentes tipo LSTM y GRU. Probaremos con el dataset IMDB y con uno propio."
      ],
      "metadata": {
        "id": "hgQr0JHdh1us"
      }
    },
    {
      "cell_type": "markdown",
      "source": [
        "## DATASET IMBD"
      ],
      "metadata": {
        "id": "aOMOOfIZiw1q"
      }
    },
    {
      "cell_type": "markdown",
      "source": [
        "### RNN LSTM"
      ],
      "metadata": {
        "id": "zb5KHK0BiVYF"
      }
    },
    {
      "cell_type": "code",
      "execution_count": 5,
      "metadata": {
        "id": "ZVg9kL19RRVo"
      },
      "outputs": [],
      "source": [
        "import numpy as np\n",
        "import pandas as pd\n",
        "\n",
        "from keras import models\n",
        "from keras import layers\n",
        "from keras import regularizers\n",
        "from keras.layers import GRU\n",
        "from keras.layers import LSTM\n",
        "from keras.datasets import imdb\n",
        "from keras.layers import Dropout\n",
        "from keras.preprocessing import sequence\n",
        "\n"
      ]
    },
    {
      "cell_type": "code",
      "execution_count": null,
      "metadata": {
        "id": "MNSeACwsRRV1"
      },
      "outputs": [],
      "source": [
        "(train_data, train_labels), (test_data, test_labels) = imdb.load_data(num_words=10000)"
      ]
    },
    {
      "cell_type": "code",
      "execution_count": null,
      "metadata": {
        "id": "m88b9QkMRRV5"
      },
      "outputs": [],
      "source": [
        "maxlen = 1000\n",
        "x_train = sequence.pad_sequences(train_data, maxlen=maxlen)\n",
        "x_test = sequence.pad_sequences(test_data, maxlen=maxlen)"
      ]
    },
    {
      "cell_type": "code",
      "execution_count": null,
      "metadata": {
        "id": "UVjJl8LJRRV7"
      },
      "outputs": [],
      "source": [
        "\n",
        "max_words = 10000\n",
        "embedding_dim = 64\n",
        "\n",
        "\n",
        "# Definir el modelo\n",
        "model = models.Sequential()\n",
        "model.add(layers.Embedding(input_dim=max_words, output_dim=embedding_dim))\n",
        "model.add(LSTM(64))  # Reemplaza Flatten con LSTM\n",
        "model.add(Dropout(0.5))  # Añade Dropout después de LSTM\n",
        "model.add(layers.Dense(128, activation='relu', kernel_regularizer=regularizers.l2(0.01)))\n",
        "model.add(Dropout(0.5))  # Añade Dropout después de Dense\n",
        "model.add(layers.Dense(1, activation='sigmoid'))\n",
        "\n",
        "# Compilar el modelo\n",
        "model.compile(optimizer='adam', loss='binary_crossentropy', metrics=['accuracy'])"
      ]
    },
    {
      "cell_type": "code",
      "execution_count": null,
      "metadata": {
        "colab": {
          "base_uri": "https://localhost:8080/"
        },
        "id": "1Y0FYOJ-RRV8",
        "outputId": "8d25e44e-00e8-4dc4-a551-c11f154c28b9"
      },
      "outputs": [
        {
          "output_type": "stream",
          "name": "stdout",
          "text": [
            "Epoch 1/15\n",
            "49/49 [==============================] - 49s 282ms/step - loss: 1.2526 - accuracy: 0.5582 - val_loss: 0.9738 - val_accuracy: 0.7351\n",
            "Epoch 2/15\n",
            "49/49 [==============================] - 12s 238ms/step - loss: 0.7545 - accuracy: 0.7926 - val_loss: 0.5784 - val_accuracy: 0.8140\n",
            "Epoch 3/15\n",
            "49/49 [==============================] - 10s 215ms/step - loss: 0.4447 - accuracy: 0.8690 - val_loss: 0.4156 - val_accuracy: 0.8582\n",
            "Epoch 4/15\n",
            "49/49 [==============================] - 9s 192ms/step - loss: 0.3028 - accuracy: 0.9077 - val_loss: 0.4075 - val_accuracy: 0.8342\n",
            "Epoch 5/15\n",
            "49/49 [==============================] - 10s 194ms/step - loss: 0.2339 - accuracy: 0.9292 - val_loss: 0.3359 - val_accuracy: 0.8690\n",
            "Epoch 6/15\n",
            "49/49 [==============================] - 9s 188ms/step - loss: 0.1828 - accuracy: 0.9478 - val_loss: 0.3409 - val_accuracy: 0.8740\n",
            "Epoch 7/15\n",
            "49/49 [==============================] - 9s 185ms/step - loss: 0.1553 - accuracy: 0.9568 - val_loss: 0.3940 - val_accuracy: 0.8611\n",
            "Epoch 8/15\n",
            "49/49 [==============================] - 8s 155ms/step - loss: 0.1316 - accuracy: 0.9658 - val_loss: 0.4012 - val_accuracy: 0.8664\n",
            "Epoch 9/15\n",
            "49/49 [==============================] - 8s 154ms/step - loss: 0.1119 - accuracy: 0.9712 - val_loss: 0.3871 - val_accuracy: 0.8580\n",
            "Epoch 10/15\n",
            "49/49 [==============================] - 7s 148ms/step - loss: 0.1056 - accuracy: 0.9736 - val_loss: 0.4363 - val_accuracy: 0.8629\n",
            "Epoch 11/15\n",
            "49/49 [==============================] - 7s 143ms/step - loss: 0.0896 - accuracy: 0.9776 - val_loss: 0.4901 - val_accuracy: 0.8614\n",
            "Epoch 12/15\n",
            "49/49 [==============================] - 8s 168ms/step - loss: 0.0906 - accuracy: 0.9766 - val_loss: 0.5275 - val_accuracy: 0.8438\n",
            "Epoch 13/15\n",
            "49/49 [==============================] - 6s 128ms/step - loss: 0.0922 - accuracy: 0.9736 - val_loss: 0.4851 - val_accuracy: 0.8574\n",
            "Epoch 14/15\n",
            "49/49 [==============================] - 6s 128ms/step - loss: 0.0687 - accuracy: 0.9839 - val_loss: 0.5260 - val_accuracy: 0.8578\n",
            "Epoch 15/15\n",
            "49/49 [==============================] - 6s 131ms/step - loss: 0.0585 - accuracy: 0.9884 - val_loss: 0.5533 - val_accuracy: 0.8558\n"
          ]
        }
      ],
      "source": [
        "history = model.fit(x_train,\n",
        "                    train_labels,\n",
        "                    epochs=15,\n",
        "                    batch_size=512,\n",
        "                    validation_data = (x_test, test_labels))"
      ]
    },
    {
      "cell_type": "code",
      "source": [
        "val_acc_train = history.history['accuracy']\n",
        "val_acc_test = history.history['val_accuracy']\n",
        "\n",
        "results = model.evaluate(x_test, test_labels)"
      ],
      "metadata": {
        "colab": {
          "base_uri": "https://localhost:8080/"
        },
        "id": "cddI1C09T36W",
        "outputId": "0a965960-3b1c-4827-fe68-1dfe66bcd850"
      },
      "execution_count": null,
      "outputs": [
        {
          "output_type": "stream",
          "name": "stdout",
          "text": [
            "782/782 [==============================] - 11s 15ms/step - loss: 0.5533 - accuracy: 0.8558\n"
          ]
        }
      ]
    },
    {
      "cell_type": "code",
      "source": [
        "import matplotlib.pyplot as plt\n",
        "\n",
        "\n",
        "epochs = range(1, len(val_acc_train) + 1)\n",
        "plt.plot(epochs, val_acc_train, 'r', label='Accuracy Train')\n",
        "plt.plot(epochs, val_acc_test, 'b',  label='Accuracy Test')\n",
        "plt.title('Entrenamiento y Test')\n",
        "plt.xlabel('Épocas')\n",
        "plt.ylabel('Accuracy')\n",
        "plt.legend()\n",
        "plt.grid()\n",
        "\n",
        "plt.show()"
      ],
      "metadata": {
        "colab": {
          "base_uri": "https://localhost:8080/",
          "height": 474
        },
        "id": "XtYrFvfaUJDL",
        "outputId": "ced80ca0-a5c1-45e2-caef-508375c1d500"
      },
      "execution_count": null,
      "outputs": [
        {
          "output_type": "display_data",
          "data": {
            "text/plain": [
              "<Figure size 640x480 with 1 Axes>"
            ],
            "image/png": "[encoded data removed]"
          },
          "metadata": {}
        }
      ]
    },
    {
      "cell_type": "markdown",
      "source": [
        "### RNN LSTM (modelo más complejo)"
      ],
      "metadata": {
        "id": "dUby2S9liaZg"
      }
    },
    {
      "cell_type": "code",
      "source": [
        "from keras.layers import Bidirectional\n",
        "\n",
        "# Definir el modelo\n",
        "model_2 = models.Sequential()\n",
        "model_2.add(layers.Embedding(input_dim=max_words, output_dim=embedding_dim))\n",
        "model_2.add(Bidirectional(LSTM(64, return_sequences=True)))  # Doble dirección y más unidades\n",
        "model_2.add(Dropout(0.5))  # Mayor Dropout\n",
        "model_2.add(LSTM(64))  # Añade otra capa LSTM\n",
        "model_2.add(layers.Dense(128, activation='relu', kernel_regularizer=regularizers.l2(0.01)))  # Más unidades en capa Dense\n",
        "model_2.add(Dropout(0.5))  # Mayor Dropout\n",
        "model_2.add(layers.Dense(64, activation='relu', kernel_regularizer=regularizers.l2(0.01)))  # Añade otra capa Dense\n",
        "model_2.add(Dropout(0.5))  # Mayor Dropout\n",
        "model_2.add(layers.Dense(1, activation='sigmoid'))\n",
        "\n",
        "# Compilar el modelo\n",
        "model_2.compile(optimizer='adam', loss='binary_crossentropy', metrics=['accuracy'])"
      ],
      "metadata": {
        "id": "HfVWkKxuUhB0"
      },
      "execution_count": null,
      "outputs": []
    },
    {
      "cell_type": "code",
      "source": [
        "history_2 = model_2.fit(x_train,\n",
        "                    train_labels,\n",
        "                    epochs=8,\n",
        "                    batch_size=512,\n",
        "                    validation_data=(x_test, test_labels))\n"
      ],
      "metadata": {
        "colab": {
          "base_uri": "https://localhost:8080/"
        },
        "id": "UhBURKlQUp7M",
        "outputId": "32cb5b54-d121-4a1a-d254-8eb67c643840"
      },
      "execution_count": null,
      "outputs": [
        {
          "output_type": "stream",
          "name": "stdout",
          "text": [
            "Epoch 1/8\n",
            "49/49 [==============================] - 46s 792ms/step - loss: 1.8325 - accuracy: 0.5907 - val_loss: 1.3424 - val_accuracy: 0.7465\n",
            "Epoch 2/8\n",
            "49/49 [==============================] - 20s 402ms/step - loss: 0.9086 - accuracy: 0.8244 - val_loss: 0.6123 - val_accuracy: 0.8696\n",
            "Epoch 3/8\n",
            "49/49 [==============================] - 19s 393ms/step - loss: 0.4358 - accuracy: 0.9156 - val_loss: 0.4176 - val_accuracy: 0.8769\n",
            "Epoch 4/8\n",
            "49/49 [==============================] - 20s 418ms/step - loss: 0.2577 - accuracy: 0.9430 - val_loss: 0.3773 - val_accuracy: 0.8745\n",
            "Epoch 5/8\n",
            "49/49 [==============================] - 20s 404ms/step - loss: 0.1810 - accuracy: 0.9575 - val_loss: 0.4016 - val_accuracy: 0.8725\n",
            "Epoch 6/8\n",
            "49/49 [==============================] - 19s 395ms/step - loss: 0.1316 - accuracy: 0.9714 - val_loss: 0.4605 - val_accuracy: 0.8688\n",
            "Epoch 7/8\n",
            "49/49 [==============================] - 19s 392ms/step - loss: 0.1038 - accuracy: 0.9814 - val_loss: 0.5095 - val_accuracy: 0.8598\n",
            "Epoch 8/8\n",
            "49/49 [==============================] - 19s 382ms/step - loss: 0.1039 - accuracy: 0.9776 - val_loss: 0.5257 - val_accuracy: 0.8676\n"
          ]
        }
      ]
    },
    {
      "cell_type": "code",
      "source": [
        "val_acc_train_2 = history_2.history['accuracy']\n",
        "val_acc_test_2 = history_2.history['val_accuracy']\n",
        "\n",
        "results_2 = model_2.evaluate(x_test, test_labels)"
      ],
      "metadata": {
        "colab": {
          "base_uri": "https://localhost:8080/"
        },
        "id": "hQb6lUqScdQT",
        "outputId": "f78f5f33-41f8-434e-e723-b8df986290bc"
      },
      "execution_count": null,
      "outputs": [
        {
          "output_type": "stream",
          "name": "stdout",
          "text": [
            "782/782 [==============================] - 33s 42ms/step - loss: 0.5257 - accuracy: 0.8676\n"
          ]
        }
      ]
    },
    {
      "cell_type": "code",
      "source": [
        "epochs = range(1, len(val_acc_train_2) + 1)\n",
        "plt.plot(epochs, val_acc_train_2, 'r', label='Accuracy Train')\n",
        "plt.plot(epochs, val_acc_test_2,  'b', label='Accuracy Test')\n",
        "plt.title('Entrenamiento y Test')\n",
        "plt.xlabel('Épocas')\n",
        "plt.ylabel('Accuracy')\n",
        "plt.legend()\n",
        "plt.grid()\n",
        "\n",
        "plt.show()"
      ],
      "metadata": {
        "colab": {
          "base_uri": "https://localhost:8080/",
          "height": 474
        },
        "id": "yT3hpj7bcfT_",
        "outputId": "472c7025-edc6-4696-9504-3d21f637ae5b"
      },
      "execution_count": null,
      "outputs": [
        {
          "output_type": "display_data",
          "data": {
            "text/plain": [
              "<Figure size 640x480 with 1 Axes>"
            ],
            "image/png": "[encoded data removed]"
          },
          "metadata": {}
        }
      ]
    },
    {
      "cell_type": "code",
      "source": [],
      "metadata": {
        "id": "cn0azoJqim4K"
      },
      "execution_count": null,
      "outputs": []
    },
    {
      "cell_type": "markdown",
      "source": [
        "### RNN GRU"
      ],
      "metadata": {
        "id": "xMnTBD6niiv5"
      }
    },
    {
      "cell_type": "code",
      "execution_count": null,
      "metadata": {
        "id": "Vklm_a25e-hL"
      },
      "outputs": [],
      "source": [
        "(train_data, train_labels), (test_data, test_labels) = imdb.load_data(num_words=10000)\n",
        "maxlen = 1000\n",
        "x_train = sequence.pad_sequences(train_data, maxlen=maxlen)\n",
        "x_test = sequence.pad_sequences(test_data, maxlen=maxlen)"
      ]
    },
    {
      "cell_type": "code",
      "source": [
        "max_words = 10000\n",
        "embedding_dim = 64\n"
      ],
      "metadata": {
        "id": "gjp057T3d3vI"
      },
      "execution_count": null,
      "outputs": []
    },
    {
      "cell_type": "code",
      "source": [
        "model_3 = models.Sequential()\n",
        "model_3.add(layers.Embedding(input_dim=max_words, output_dim=embedding_dim))\n",
        "model_3.add(Bidirectional(GRU(64, return_sequences=True)))\n",
        "model_3.add(Dropout(0.5))\n",
        "model_3.add(GRU(64, return_sequences=False))  # Cambia a return_sequences=False\n",
        "model_3.add(layers.Dense(128, activation='relu', kernel_regularizer=regularizers.l2(0.01)))\n",
        "model_3.add(Dropout(0.5))\n",
        "model_3.add(layers.Dense(64, activation='relu', kernel_regularizer=regularizers.l2(0.01)))\n",
        "model_3.add(Dropout(0.5))\n",
        "model_3.add(layers.Dense(1, activation='sigmoid'))\n",
        "\n",
        "model_3.compile(optimizer='adam', loss='binary_crossentropy', metrics=['accuracy'])"
      ],
      "metadata": {
        "id": "zXW2JLUkfxmu"
      },
      "execution_count": null,
      "outputs": []
    },
    {
      "cell_type": "code",
      "source": [
        "history_3 = model_3.fit(x_train,\n",
        "                    train_labels,\n",
        "                    epochs=8,\n",
        "                    batch_size=512,\n",
        "                    validation_data=(x_test, test_labels))"
      ],
      "metadata": {
        "colab": {
          "base_uri": "https://localhost:8080/"
        },
        "id": "lElIRFYBeJrr",
        "outputId": "9831049b-16e6-478c-df54-fa80da0f44d9"
      },
      "execution_count": null,
      "outputs": [
        {
          "output_type": "stream",
          "name": "stdout",
          "text": [
            "Epoch 1/8\n",
            "49/49 [==============================] - 26s 421ms/step - loss: 1.8336 - accuracy: 0.5510 - val_loss: 1.3320 - val_accuracy: 0.6931\n",
            "Epoch 2/8\n",
            "49/49 [==============================] - 18s 380ms/step - loss: 0.9666 - accuracy: 0.7751 - val_loss: 0.7719 - val_accuracy: 0.7719\n",
            "Epoch 3/8\n",
            "49/49 [==============================] - 19s 393ms/step - loss: 0.5714 - accuracy: 0.8515 - val_loss: 0.5389 - val_accuracy: 0.8236\n",
            "Epoch 4/8\n",
            "49/49 [==============================] - 19s 396ms/step - loss: 0.3744 - accuracy: 0.8934 - val_loss: 0.4218 - val_accuracy: 0.8520\n",
            "Epoch 5/8\n",
            "49/49 [==============================] - 19s 396ms/step - loss: 0.2688 - accuracy: 0.9255 - val_loss: 0.4303 - val_accuracy: 0.8401\n",
            "Epoch 6/8\n",
            "49/49 [==============================] - 19s 386ms/step - loss: 0.2134 - accuracy: 0.9437 - val_loss: 0.3892 - val_accuracy: 0.8581\n",
            "Epoch 7/8\n",
            "49/49 [==============================] - 19s 380ms/step - loss: 0.1772 - accuracy: 0.9559 - val_loss: 0.3973 - val_accuracy: 0.8546\n",
            "Epoch 8/8\n",
            "49/49 [==============================] - 18s 377ms/step - loss: 0.1519 - accuracy: 0.9656 - val_loss: 0.4191 - val_accuracy: 0.8577\n"
          ]
        }
      ]
    },
    {
      "cell_type": "code",
      "source": [
        "val_acc_train_3 = history_3.history['accuracy']\n",
        "val_acc_test_3 = history_3.history['val_accuracy']\n",
        "\n",
        "results_3 = model_3.evaluate(x_test, test_labels)"
      ],
      "metadata": {
        "colab": {
          "base_uri": "https://localhost:8080/"
        },
        "id": "p93MRBnIhbAM",
        "outputId": "b815df88-89f8-418e-8c11-0dfd1bbff87e"
      },
      "execution_count": null,
      "outputs": [
        {
          "output_type": "stream",
          "name": "stdout",
          "text": [
            "782/782 [==============================] - 31s 39ms/step - loss: 0.4191 - accuracy: 0.8577\n"
          ]
        }
      ]
    },
    {
      "cell_type": "code",
      "source": [
        "epochs = range(1, len(val_acc_train_3) + 1)\n",
        "plt.plot(epochs, val_acc_train_3, 'r', label='Accuracy Train')\n",
        "plt.plot(epochs, val_acc_test_3,  'b', label='Accuracy Test')\n",
        "plt.title('Entrenamiento y Test')\n",
        "plt.xlabel('Épocas')\n",
        "plt.ylabel('Accuracy')\n",
        "plt.legend()\n",
        "plt.grid()\n",
        "\n",
        "plt.show()"
      ],
      "metadata": {
        "colab": {
          "base_uri": "https://localhost:8080/",
          "height": 474
        },
        "id": "KAXo7gsUhjH4",
        "outputId": "3fadf635-83b5-4f4d-fef2-b925803549d6"
      },
      "execution_count": null,
      "outputs": [
        {
          "output_type": "display_data",
          "data": {
            "text/plain": [
              "<Figure size 640x480 with 1 Axes>"
            ],
            "image/png": "[encoded data removed]"
          },
          "metadata": {}
        }
      ]
    },
    {
      "cell_type": "markdown",
      "source": [
        "## DATASET PROPIO"
      ],
      "metadata": {
        "id": "pzR2fGFSi9tC"
      }
    },
    {
      "cell_type": "markdown",
      "source": [
        "### LSTM"
      ],
      "metadata": {
        "id": "7aIiTe2slS8a"
      }
    },
    {
      "cell_type": "code",
      "source": [
        "from keras.utils import to_categorical\n",
        "from tensorflow.keras.preprocessing.text import Tokenizer"
      ],
      "metadata": {
        "id": "j5W1a4tl5OuP"
      },
      "execution_count": 1,
      "outputs": []
    },
    {
      "cell_type": "code",
      "source": [
        "!wget https://s3.amazonaws.com/fast-ai-nlp/yelp_review_full_csv.tgz"
      ],
      "metadata": {
        "id": "c7Ey5HaMlSCL",
        "colab": {
          "base_uri": "https://localhost:8080/"
        },
        "outputId": "ae6df0d8-8755-42bd-86fa-7e0851ba404f"
      },
      "execution_count": 2,
      "outputs": [
        {
          "output_type": "stream",
          "name": "stdout",
          "text": [
            "--2024-04-15 20:59:25--  https://s3.amazonaws.com/fast-ai-nlp/yelp_review_full_csv.tgz\n",
            "Resolving s3.amazonaws.com (s3.amazonaws.com)... 16.182.98.48, 52.216.60.216, 16.182.103.128, ...\n",
            "Connecting to s3.amazonaws.com (s3.amazonaws.com)|16.182.98.48|:443... connected.\n",
            "HTTP request sent, awaiting response... 200 OK\n",
            "Length: 196146755 (187M) [application/x-tar]\n",
            "Saving to: ‘yelp_review_full_csv.tgz.2’\n",
            "\n",
            "yelp_review_full_cs 100%[===================>] 187.06M  46.4MB/s    in 4.0s    \n",
            "\n",
            "2024-04-15 20:59:29 (46.6 MB/s) - ‘yelp_review_full_csv.tgz.2’ saved [196146755/196146755]\n",
            "\n"
          ]
        }
      ]
    },
    {
      "cell_type": "code",
      "source": [
        " !tar -xvzf yelp_review_full_csv.tgz"
      ],
      "metadata": {
        "colab": {
          "base_uri": "https://localhost:8080/"
        },
        "id": "fxMaETqh2WZ2",
        "outputId": "67202bfe-4082-4304-ce74-7b3bc3a2fa54"
      },
      "execution_count": 3,
      "outputs": [
        {
          "output_type": "stream",
          "name": "stdout",
          "text": [
            "yelp_review_full_csv/\n",
            "yelp_review_full_csv/train.csv\n",
            "yelp_review_full_csv/readme.txt\n",
            "yelp_review_full_csv/test.csv\n"
          ]
        }
      ]
    },
    {
      "cell_type": "code",
      "source": [
        "train_yelp = pd.read_csv('yelp_review_full_csv/train.csv', header=None)\n",
        "test_yelp  = pd.read_csv('yelp_review_full_csv/test.csv', header=None)\n",
        "# Mezclar los datos\n",
        "train_yelp = train_yelp.sample(frac=1).reset_index(drop=True)\n",
        "test_yelp = test_yelp.sample(frac=1).reset_index(drop=True)\n",
        "\n",
        "train_yelp.head()\n",
        "#test_yelp.head()\n"
      ],
      "metadata": {
        "id": "tF1ZAkpy3Ijg",
        "colab": {
          "base_uri": "https://localhost:8080/",
          "height": 206
        },
        "outputId": "ad580e4c-6904-4d67-d726-02ea62fb33a3"
      },
      "execution_count": 6,
      "outputs": [
        {
          "output_type": "execute_result",
          "data": {
            "text/plain": [
              "   0                                                  1\n",
              "0  2  I'm very surprised that after 20+ reviews this...\n",
              "1  5  These guys rock for sure! I had a 3inch lift i...\n",
              "2  2  Okay hotel, but bad, loud music at the pool ru...\n",
              "3  5  While the Royal Museum in Chambers Street is b...\n",
              "4  3  We've visited this place a few times in the pa..."
            ],
            "text/html": [
              "\n",
              "  <div id=\"df-2c603b49-80aa-4352-801c-d124a7e435a5\" class=\"colab-df-container\">\n",
              "    <div>\n",
              "<style scoped>\n",
              "    .dataframe tbody tr th:only-of-type {\n",
              "        vertical-align: middle;\n",
              "    }\n",
              "\n",
              "    .dataframe tbody tr th {\n",
              "        vertical-align: top;\n",
              "    }\n",
              "\n",
              "    .dataframe thead th {\n",
              "        text-align: right;\n",
              "    }\n",
              "</style>\n",
              "<table border=\"1\" class=\"dataframe\">\n",
              "  <thead>\n",
              "    <tr style=\"text-align: right;\">\n",
              "      <th></th>\n",
              "      <th>0</th>\n",
              "      <th>1</th>\n",
              "    </tr>\n",
              "  </thead>\n",
              "  <tbody>\n",
              "    <tr>\n",
              "      <th>0</th>\n",
              "      <td>2</td>\n",
              "      <td>I'm very surprised that after 20+ reviews this...</td>\n",
              "    </tr>\n",
              "    <tr>\n",
              "      <th>1</th>\n",
              "      <td>5</td>\n",
              "      <td>These guys rock for sure! I had a 3inch lift i...</td>\n",
              "    </tr>\n",
              "    <tr>\n",
              "      <th>2</th>\n",
              "      <td>2</td>\n",
              "      <td>Okay hotel, but bad, loud music at the pool ru...</td>\n",
              "    </tr>\n",
              "    <tr>\n",
              "      <th>3</th>\n",
              "      <td>5</td>\n",
              "      <td>While the Royal Museum in Chambers Street is b...</td>\n",
              "    </tr>\n",
              "    <tr>\n",
              "      <th>4</th>\n",
              "      <td>3</td>\n",
              "      <td>We've visited this place a few times in the pa...</td>\n",
              "    </tr>\n",
              "  </tbody>\n",
              "</table>\n",
              "</div>\n",
              "    <div class=\"colab-df-buttons\">\n",
              "\n",
              "  <div class=\"colab-df-container\">\n",
              "    <button class=\"colab-df-convert\" onclick=\"convertToInteractive('df-2c603b49-80aa-4352-801c-d124a7e435a5')\"\n",
              "            title=\"Convert this dataframe to an interactive table.\"\n",
              "            style=\"display:none;\">\n",
              "\n",
              "  <svg xmlns=\"http://www.w3.org/2000/svg\" height=\"24px\" viewBox=\"0 -960 960 960\">\n",
              "    <path d=\"M120-120v-720h720v720H120Zm60-500h600v-160H180v160Zm220 220h160v-160H400v160Zm0 220h160v-160H400v160ZM180-400h160v-160H180v160Zm440 0h160v-160H620v160ZM180-180h160v-160H180v160Zm440 0h160v-160H620v160Z\"/>\n",
              "  </svg>\n",
              "    </button>\n",
              "\n",
              "  <style>\n",
              "    .colab-df-container {\n",
              "      display:flex;\n",
              "      gap: 12px;\n",
              "    }\n",
              "\n",
              "    .colab-df-convert {\n",
              "      background-color: #E8F0FE;\n",
              "      border: none;\n",
              "      border-radius: 50%;\n",
              "      cursor: pointer;\n",
              "      display: none;\n",
              "      fill: #1967D2;\n",
              "      height: 32px;\n",
              "      padding: 0 0 0 0;\n",
              "      width: 32px;\n",
              "    }\n",
              "\n",
              "    .colab-df-convert:hover {\n",
              "      background-color: #E2EBFA;\n",
              "      box-shadow: 0px 1px 2px rgba(60, 64, 67, 0.3), 0px 1px 3px 1px rgba(60, 64, 67, 0.15);\n",
              "      fill: #174EA6;\n",
              "    }\n",
              "\n",
              "    .colab-df-buttons div {\n",
              "      margin-bottom: 4px;\n",
              "    }\n",
              "\n",
              "    [theme=dark] .colab-df-convert {\n",
              "      background-color: #3B4455;\n",
              "      fill: #D2E3FC;\n",
              "    }\n",
              "\n",
              "    [theme=dark] .colab-df-convert:hover {\n",
              "      background-color: #434B5C;\n",
              "      box-shadow: 0px 1px 3px 1px rgba(0, 0, 0, 0.15);\n",
              "      filter: drop-shadow(0px 1px 2px rgba(0, 0, 0, 0.3));\n",
              "      fill: #FFFFFF;\n",
              "    }\n",
              "  </style>\n",
              "\n",
              "    <script>\n",
              "      const buttonEl =\n",
              "        document.querySelector('#df-2c603b49-80aa-4352-801c-d124a7e435a5 button.colab-df-convert');\n",
              "      buttonEl.style.display =\n",
              "        google.colab.kernel.accessAllowed ? 'block' : 'none';\n",
              "\n",
              "      async function convertToInteractive(key) {\n",
              "        const element = document.querySelector('#df-2c603b49-80aa-4352-801c-d124a7e435a5');\n",
              "        const dataTable =\n",
              "          await google.colab.kernel.invokeFunction('convertToInteractive',\n",
              "                                                    [key], {});\n",
              "        if (!dataTable) return;\n",
              "\n",
              "        const docLinkHtml = 'Like what you see? Visit the ' +\n",
              "          '<a target=\"_blank\" href=https://colab.research.google.com/notebooks/data_table.ipynb>data table notebook</a>'\n",
              "          + ' to learn more about interactive tables.';\n",
              "        element.innerHTML = '';\n",
              "        dataTable['output_type'] = 'display_data';\n",
              "        await google.colab.output.renderOutput(dataTable, element);\n",
              "        const docLink = document.createElement('div');\n",
              "        docLink.innerHTML = docLinkHtml;\n",
              "        element.appendChild(docLink);\n",
              "      }\n",
              "    </script>\n",
              "  </div>\n",
              "\n",
              "\n",
              "<div id=\"df-3f910688-b916-494e-ac06-a8bc8a5c4456\">\n",
              "  <button class=\"colab-df-quickchart\" onclick=\"quickchart('df-3f910688-b916-494e-ac06-a8bc8a5c4456')\"\n",
              "            title=\"Suggest charts\"\n",
              "            style=\"display:none;\">\n",
              "\n",
              "<svg xmlns=\"http://www.w3.org/2000/svg\" height=\"24px\"viewBox=\"0 0 24 24\"\n",
              "     width=\"24px\">\n",
              "    <g>\n",
              "        <path d=\"M19 3H5c-1.1 0-2 .9-2 2v14c0 1.1.9 2 2 2h14c1.1 0 2-.9 2-2V5c0-1.1-.9-2-2-2zM9 17H7v-7h2v7zm4 0h-2V7h2v10zm4 0h-2v-4h2v4z\"/>\n",
              "    </g>\n",
              "</svg>\n",
              "  </button>\n",
              "\n",
              "<style>\n",
              "  .colab-df-quickchart {\n",
              "      --bg-color: #E8F0FE;\n",
              "      --fill-color: #1967D2;\n",
              "      --hover-bg-color: #E2EBFA;\n",
              "      --hover-fill-color: #174EA6;\n",
              "      --disabled-fill-color: #AAA;\n",
              "      --disabled-bg-color: #DDD;\n",
              "  }\n",
              "\n",
              "  [theme=dark] .colab-df-quickchart {\n",
              "      --bg-color: #3B4455;\n",
              "      --fill-color: #D2E3FC;\n",
              "      --hover-bg-color: #434B5C;\n",
              "      --hover-fill-color: #FFFFFF;\n",
              "      --disabled-bg-color: #3B4455;\n",
              "      --disabled-fill-color: #666;\n",
              "  }\n",
              "\n",
              "  .colab-df-quickchart {\n",
              "    background-color: var(--bg-color);\n",
              "    border: none;\n",
              "    border-radius: 50%;\n",
              "    cursor: pointer;\n",
              "    display: none;\n",
              "    fill: var(--fill-color);\n",
              "    height: 32px;\n",
              "    padding: 0;\n",
              "    width: 32px;\n",
              "  }\n",
              "\n",
              "  .colab-df-quickchart:hover {\n",
              "    background-color: var(--hover-bg-color);\n",
              "    box-shadow: 0 1px 2px rgba(60, 64, 67, 0.3), 0 1px 3px 1px rgba(60, 64, 67, 0.15);\n",
              "    fill: var(--button-hover-fill-color);\n",
              "  }\n",
              "\n",
              "  .colab-df-quickchart-complete:disabled,\n",
              "  .colab-df-quickchart-complete:disabled:hover {\n",
              "    background-color: var(--disabled-bg-color);\n",
              "    fill: var(--disabled-fill-color);\n",
              "    box-shadow: none;\n",
              "  }\n",
              "\n",
              "  .colab-df-spinner {\n",
              "    border: 2px solid var(--fill-color);\n",
              "    border-color: transparent;\n",
              "    border-bottom-color: var(--fill-color);\n",
              "    animation:\n",
              "      spin 1s steps(1) infinite;\n",
              "  }\n",
              "\n",
              "  @keyframes spin {\n",
              "    0% {\n",
              "      border-color: transparent;\n",
              "      border-bottom-color: var(--fill-color);\n",
              "      border-left-color: var(--fill-color);\n",
              "    }\n",
              "    20% {\n",
              "      border-color: transparent;\n",
              "      border-left-color: var(--fill-color);\n",
              "      border-top-color: var(--fill-color);\n",
              "    }\n",
              "    30% {\n",
              "      border-color: transparent;\n",
              "      border-left-color: var(--fill-color);\n",
              "      border-top-color: var(--fill-color);\n",
              "      border-right-color: var(--fill-color);\n",
              "    }\n",
              "    40% {\n",
              "      border-color: transparent;\n",
              "      border-right-color: var(--fill-color);\n",
              "      border-top-color: var(--fill-color);\n",
              "    }\n",
              "    60% {\n",
              "      border-color: transparent;\n",
              "      border-right-color: var(--fill-color);\n",
              "    }\n",
              "    80% {\n",
              "      border-color: transparent;\n",
              "      border-right-color: var(--fill-color);\n",
              "      border-bottom-color: var(--fill-color);\n",
              "    }\n",
              "    90% {\n",
              "      border-color: transparent;\n",
              "      border-bottom-color: var(--fill-color);\n",
              "    }\n",
              "  }\n",
              "</style>\n",
              "\n",
              "  <script>\n",
              "    async function quickchart(key) {\n",
              "      const quickchartButtonEl =\n",
              "        document.querySelector('#' + key + ' button');\n",
              "      quickchartButtonEl.disabled = true;  // To prevent multiple clicks.\n",
              "      quickchartButtonEl.classList.add('colab-df-spinner');\n",
              "      try {\n",
              "        const charts = await google.colab.kernel.invokeFunction(\n",
              "            'suggestCharts', [key], {});\n",
              "      } catch (error) {\n",
              "        console.error('Error during call to suggestCharts:', error);\n",
              "      }\n",
              "      quickchartButtonEl.classList.remove('colab-df-spinner');\n",
              "      quickchartButtonEl.classList.add('colab-df-quickchart-complete');\n",
              "    }\n",
              "    (() => {\n",
              "      let quickchartButtonEl =\n",
              "        document.querySelector('#df-3f910688-b916-494e-ac06-a8bc8a5c4456 button');\n",
              "      quickchartButtonEl.style.display =\n",
              "        google.colab.kernel.accessAllowed ? 'block' : 'none';\n",
              "    })();\n",
              "  </script>\n",
              "</div>\n",
              "    </div>\n",
              "  </div>\n"
            ],
            "application/vnd.google.colaboratory.intrinsic+json": {
              "type": "dataframe",
              "summary": "{\n  \"name\": \"#test_yelp\",\n  \"rows\": 5,\n  \"fields\": [\n    {\n      \"column\": 0,\n      \"properties\": {\n        \"dtype\": \"number\",\n        \"std\": 1,\n        \"min\": 2,\n        \"max\": 5,\n        \"num_unique_values\": 3,\n        \"samples\": [\n          2,\n          5,\n          3\n        ],\n        \"semantic_type\": \"\",\n        \"description\": \"\"\n      }\n    },\n    {\n      \"column\": 1,\n      \"properties\": {\n        \"dtype\": \"string\",\n        \"num_unique_values\": 5,\n        \"samples\": [\n          \"These guys rock for sure! I had a 3inch lift installed on my FJ cruiser with aftermarket upper control arms. When the other shop completed the lift I had serious alignment issues. I brought my Fj to Network on Cave Creek and these guys had me aligned and out in no time. These guys know what they are doing for sure.\\\\n\\\\nSide note: Prior to bringing my truck here I tried Toyota dealer for alignment and they were gonna charge me through the roof, they looked at me like I was from outer space. They proceeded to tell me I would need additional parts to get this alignment done. Well Network didnt need extra parts and it drives smooth. Thanks guys!\",\n          \"We've visited this place a few times in the past, but this will be about our last recent visit.\\\\n\\\\nWe came here for dinner and we were immediately seated, even though the place seemed pretty busy.\\\\n\\\\nThe mood of this place at night would be good to take a date to at night.  I find it very cozy and intimate. \\\\n\\\\nLets dive straight to the food we ordered.\\\\n\\\\nThe chips and salsa are standard.  There were two salsas and a bean dip and they are very good.  This is a main reason why we come here sometimes.  It is a tasty freebie.\\\\n\\\\nFor an appetizer, my wife was on a huge ceviche kick so we decided to go with that first.  We got the Shrimp Ceviche which has shrimp with fresh lime, cucumber, cilantro, jalape\\\\u00f1os and avocado.  We eat these with tortilla chips and treat it like a special salsa.  It is insanely delicious and highly recommended.\\\\n\\\\nFor the main course, my better half chose the Crispy Rock Shrimp Tacos.  These tacos are buttermilk soaked rock shrimp spiced in beer batter, cabbage slaw and fresh lime.  She enjoyed it and I snuck a bite in as well.  Not bad.\\\\n\\\\nI chose the Fresh Fish Tacos - grilled-spiced tilapia with poblano pepper slaw, salsa fresca and fresh lime.  I really need to try other items here, but this is such a safe and satisfying choice that I tend to stick with it.  \\\\n\\\\nNow lets get to the dessert - fried ice cream.  Pretty standard for a Mexican restaurant but good nonetheless.\\\\n\\\\nThe main meal required a little bit of patients from us, but we weren't in a hurry so it wasn't a big deal.\\\\n\\\\nThe food is good and so is the service.  Our server was very friendly and professional.  This place is good for the occasional visit when we need to mix up from our usual places.\\\\n\\\\nOne note: for some reason, and I don't know if it's just me, but I feel like jeans and a button up shirt is almost the lowest you can go here.  T-Shirt and shorts here make me feel uncomfortable as the atmosphere is definitely a looker.\",\n          \"Okay hotel, but bad, loud music at the pool ruined a peaceful vacation.  Why isn't there a quiet area for those who'd like to read, talk to another person without screaming, or just enjoy the peace.  I never understand why places like this assume everyone wants to listen to the music they like.  Additionally, the pool area is packed lounge chair to lounge chair with about an inch between.  Like cattle in a box car.\\\\n The hotel room itself was fine.  Very retro 50s style and color.  Glass bathroom.  Only problem, being a glass door, no hooks to hang stuff on.\\\\n Casino is nothing special.  Low ceilings, dopey slot games, smoky, etc.  I miss Caesar's Palace with its high ceilings and elbow room.\"\n        ],\n        \"semantic_type\": \"\",\n        \"description\": \"\"\n      }\n    }\n  ]\n}"
            }
          },
          "metadata": {},
          "execution_count": 6
        }
      ]
    },
    {
      "cell_type": "code",
      "source": [
        "# Separar características (data) y etiquetas (labels) para train\n",
        "train_labels_4 = train_yelp.iloc[:, 0]  # La primera columna contiene las etiquetas\n",
        "train_data_4 = train_yelp.iloc[:, 1]  # Las características están en todas las columnas excepto la primera\n",
        "\n",
        "# Separar características (data) y etiquetas (labels) para test\n",
        "test_labels_4 = test_yelp.iloc[:, 0]  # La primera columna contiene las etiquetas\n",
        "test_data_4 = test_yelp.iloc[:, 1]  # Las características están en todas las columnas excepto la primera\n",
        "\n",
        "# Verificar el tamaño de las muestras\n",
        "print(\"Tamaño del conjunto de entrenamiento (data):\", len(train_data_4))\n",
        "print(\"Tamaño del conjunto de entrenamiento (labels):\", len(train_labels_4))\n",
        "print(\"Tamaño del conjunto de prueba (data):\", len(test_data_4))\n",
        "print(\"Tamaño del conjunto de prueba (labels):\", len(test_labels_4))"
      ],
      "metadata": {
        "colab": {
          "base_uri": "https://localhost:8080/"
        },
        "id": "tTEZfr2i4bCg",
        "outputId": "c821c6f4-9760-4456-95ca-0684a2bdf323"
      },
      "execution_count": 7,
      "outputs": [
        {
          "output_type": "stream",
          "name": "stdout",
          "text": [
            "Tamaño del conjunto de entrenamiento (data): 650000\n",
            "Tamaño del conjunto de entrenamiento (labels): 650000\n",
            "Tamaño del conjunto de prueba (data): 50000\n",
            "Tamaño del conjunto de prueba (labels): 50000\n"
          ]
        }
      ]
    },
    {
      "cell_type": "markdown",
      "source": [
        "Entre otras cosas, a continuación vamos a reclasificar las reseñas en buenas (1) mediocres (2,3,4) y buenas (5), pasando de 5 a 3 clases. Esto se hacer por motivos de cómputo, pues es una RNN con análisis de sentimientos/sensaciones. Usamos palabras clave de reseñas para determinar que tan bueno es algo, siendo mucho más dificil atinar con 5 que con 3 clases. Al tener recursos limitados simplificamos un poco el proceso."
      ],
      "metadata": {
        "id": "wDG-Jy7uoMKT"
      }
    },
    {
      "cell_type": "code",
      "source": [
        "# Reemplazar las clases 2, 3 y 4 por la nueva clase 2, y la clase 5 por la nueva clase 3\n",
        "train_labels_4_replaced = train_labels_4.replace({2: 2, 3: 2, 4: 2, 5: 3})\n",
        "test_labels_4_replaced = test_labels_4.replace({2: 2, 3: 2, 4: 2, 5: 3})\n",
        "\n",
        "\n",
        "# Convertir train_labels_4_replaced a one-hot encoding\n",
        "train_labels_4_encoded = to_categorical(train_labels_4_replaced - 1)\n",
        "# Convertir test_labels_4_replaced a one-hot encoding\n",
        "test_labels_4_encoded = to_categorical(test_labels_4_replaced - 1)\n",
        "\n"
      ],
      "metadata": {
        "id": "KhzGbrgA5EDF"
      },
      "execution_count": 8,
      "outputs": []
    },
    {
      "cell_type": "code",
      "source": [
        "print(np.unique(train_labels_4_replaced))\n",
        "print(np.unique(test_labels_4_replaced))\n",
        "print(np.unique(train_labels_4_encoded))\n",
        "print(np.unique(test_labels_4_encoded))\n"
      ],
      "metadata": {
        "colab": {
          "base_uri": "https://localhost:8080/"
        },
        "id": "jVxKkiUseL8L",
        "outputId": "3bbcdf76-4016-40de-9373-8bac2c253699"
      },
      "execution_count": 9,
      "outputs": [
        {
          "output_type": "stream",
          "name": "stdout",
          "text": [
            "[1 2 3]\n",
            "[1 2 3]\n",
            "[0. 1.]\n",
            "[0. 1.]\n"
          ]
        }
      ]
    },
    {
      "cell_type": "code",
      "source": [
        "maxlen_4 = 80\n",
        "max_num_words= 500\n",
        "ignore_top_words= 10\n",
        "\n",
        "# Inicializa un Tokenizer\n",
        "tokenizer = Tokenizer(num_words=max_num_words)\n",
        "\n",
        "# Ajusta el Tokenizer a tus datos de entrenamiento\n",
        "tokenizer.fit_on_texts(train_data_4)\n",
        "\n",
        "# Get the word counts\n",
        "word_counts = tokenizer.word_counts\n",
        "\n",
        "# Sort the word counts and get the 10 most common words\n",
        "most_common_words = sorted(word_counts.items(), key=lambda x: x[1], reverse=True)[:ignore_top_words]\n",
        "most_common_words = [word for word, count in most_common_words]\n",
        "\n",
        "# Adjust the word index of the tokenizer\n",
        "for word in most_common_words:\n",
        "    del tokenizer.word_index[word]\n",
        "    del tokenizer.word_docs[word]\n",
        "    del tokenizer.word_counts[word]\n",
        "\n",
        "# Now you can convert your texts into sequences\n",
        "train_data_4_token = tokenizer.texts_to_sequences(train_data_4)\n",
        "test_data_4_token  = tokenizer.texts_to_sequences(test_data_4)\n",
        "\n",
        "# Ahora puedes aplicar sequence.pad_sequences\n",
        "x_train_4 = sequence.pad_sequences(train_data_4_token, maxlen=maxlen_4)\n",
        "x_test_4 = sequence.pad_sequences(test_data_4_token, maxlen=maxlen_4)"
      ],
      "metadata": {
        "id": "VZiGQl955KyY"
      },
      "execution_count": 10,
      "outputs": []
    },
    {
      "cell_type": "code",
      "source": [
        "max_words = 500\n",
        "embedding_dim = 50\n",
        "num_classes = 3\n",
        "\n",
        "# Definir el modelo\n",
        "model_4 = models.Sequential()\n",
        "model_4.add(layers.Embedding(input_dim=maxlen_4, output_dim=embedding_dim))\n",
        "model_4.add(LSTM(64))  # Reemplaza Flatten con LSTM\n",
        "model_4.add(Dropout(0.3))  # Añade Dropout después de LSTM\n",
        "model_4.add(layers.Dense(128, activation='relu', kernel_regularizer=regularizers.l2(0.01)))\n",
        "model_4.add(Dropout(0.3))\n",
        "model_4.add(layers.Dense(num_classes, activation='softmax'))\n",
        "\n",
        "# Compilar el modelo\n",
        "model_4.compile(optimizer='adam', loss='categorical_crossentropy', metrics=['accuracy'])"
      ],
      "metadata": {
        "id": "1CNbwkdT6DYt"
      },
      "execution_count": 11,
      "outputs": []
    },
    {
      "cell_type": "code",
      "source": [
        "model_4.summary()\n",
        "\n",
        "history_4 = model_4.fit(x_train_4,\n",
        "                        train_labels_4_encoded,\n",
        "                        epochs=20,\n",
        "                        batch_size=16384,\n",
        "                        validation_data=(x_test_4, test_labels_4_encoded))"
      ],
      "metadata": {
        "colab": {
          "base_uri": "https://localhost:8080/"
        },
        "id": "LVBxp96cZ07p",
        "outputId": "9db86ab6-dc0e-44e0-988e-db5626707d32"
      },
      "execution_count": 12,
      "outputs": [
        {
          "output_type": "stream",
          "name": "stdout",
          "text": [
            "Model: \"sequential\"\n",
            "_________________________________________________________________\n",
            " Layer (type)                Output Shape              Param #   \n",
            "=================================================================\n",
            " embedding (Embedding)       (None, None, 50)          4000      \n",
            "                                                                 \n",
            " lstm (LSTM)                 (None, 64)                29440     \n",
            "                                                                 \n",
            " dropout (Dropout)           (None, 64)                0         \n",
            "                                                                 \n",
            " dense (Dense)               (None, 128)               8320      \n",
            "                                                                 \n",
            " dropout_1 (Dropout)         (None, 128)               0         \n",
            "                                                                 \n",
            " dense_1 (Dense)             (None, 3)                 387       \n",
            "                                                                 \n",
            "=================================================================\n",
            "Total params: 42147 (164.64 KB)\n",
            "Trainable params: 42147 (164.64 KB)\n",
            "Non-trainable params: 0 (0.00 Byte)\n",
            "_________________________________________________________________\n",
            "Epoch 1/20\n",
            "40/40 [==============================] - 15s 241ms/step - loss: 1.6087 - accuracy: 0.5947 - val_loss: 1.3584 - val_accuracy: 0.6000\n",
            "Epoch 2/20\n",
            "40/40 [==============================] - 8s 212ms/step - loss: 1.2084 - accuracy: 0.6001 - val_loss: 1.0681 - val_accuracy: 0.6010\n",
            "Epoch 3/20\n",
            "40/40 [==============================] - 9s 231ms/step - loss: 0.9974 - accuracy: 0.6234 - val_loss: 0.9129 - val_accuracy: 0.6351\n",
            "Epoch 4/20\n",
            "40/40 [==============================] - 9s 209ms/step - loss: 0.8681 - accuracy: 0.6389 - val_loss: 0.8204 - val_accuracy: 0.6538\n",
            "Epoch 5/20\n",
            "40/40 [==============================] - 9s 232ms/step - loss: 0.8132 - accuracy: 0.6514 - val_loss: 0.7938 - val_accuracy: 0.6569\n",
            "Epoch 6/20\n",
            "40/40 [==============================] - 8s 207ms/step - loss: 0.7951 - accuracy: 0.6542 - val_loss: 0.7819 - val_accuracy: 0.6588\n",
            "Epoch 7/20\n",
            "40/40 [==============================] - 10s 241ms/step - loss: 0.7866 - accuracy: 0.6557 - val_loss: 0.7766 - val_accuracy: 0.6590\n",
            "Epoch 8/20\n",
            "40/40 [==============================] - 8s 211ms/step - loss: 0.7826 - accuracy: 0.6565 - val_loss: 0.7736 - val_accuracy: 0.6596\n",
            "Epoch 9/20\n",
            "40/40 [==============================] - 9s 223ms/step - loss: 0.7797 - accuracy: 0.6573 - val_loss: 0.7710 - val_accuracy: 0.6600\n",
            "Epoch 10/20\n",
            "40/40 [==============================] - 8s 210ms/step - loss: 0.7777 - accuracy: 0.6573 - val_loss: 0.7705 - val_accuracy: 0.6612\n",
            "Epoch 11/20\n",
            "40/40 [==============================] - 9s 228ms/step - loss: 0.7760 - accuracy: 0.6584 - val_loss: 0.7682 - val_accuracy: 0.6615\n",
            "Epoch 12/20\n",
            "40/40 [==============================] - 9s 221ms/step - loss: 0.7739 - accuracy: 0.6594 - val_loss: 0.7683 - val_accuracy: 0.6621\n",
            "Epoch 13/20\n",
            "40/40 [==============================] - 8s 211ms/step - loss: 0.7728 - accuracy: 0.6596 - val_loss: 0.7655 - val_accuracy: 0.6630\n",
            "Epoch 14/20\n",
            "40/40 [==============================] - 9s 229ms/step - loss: 0.7710 - accuracy: 0.6608 - val_loss: 0.7646 - val_accuracy: 0.6633\n",
            "Epoch 15/20\n",
            "40/40 [==============================] - 8s 213ms/step - loss: 0.7693 - accuracy: 0.6608 - val_loss: 0.7621 - val_accuracy: 0.6644\n",
            "Epoch 16/20\n",
            "40/40 [==============================] - 9s 235ms/step - loss: 0.7682 - accuracy: 0.6611 - val_loss: 0.7614 - val_accuracy: 0.6642\n",
            "Epoch 17/20\n",
            "40/40 [==============================] - 8s 208ms/step - loss: 0.7671 - accuracy: 0.6612 - val_loss: 0.7608 - val_accuracy: 0.6635\n",
            "Epoch 18/20\n",
            "40/40 [==============================] - 10s 245ms/step - loss: 0.7649 - accuracy: 0.6622 - val_loss: 0.7575 - val_accuracy: 0.6662\n",
            "Epoch 19/20\n",
            "40/40 [==============================] - 8s 208ms/step - loss: 0.7630 - accuracy: 0.6631 - val_loss: 0.7559 - val_accuracy: 0.6661\n",
            "Epoch 20/20\n",
            "40/40 [==============================] - 9s 236ms/step - loss: 0.7620 - accuracy: 0.6630 - val_loss: 0.7555 - val_accuracy: 0.6653\n"
          ]
        }
      ]
    },
    {
      "cell_type": "code",
      "source": [
        "val_acc_train_4 = history_4.history['accuracy']\n",
        "val_acc_test_4 = history_4.history['val_accuracy']\n",
        "\n",
        "results_4 = model_4.evaluate(x_test_4, test_labels_4_encoded)"
      ],
      "metadata": {
        "colab": {
          "base_uri": "https://localhost:8080/"
        },
        "outputId": "fd9e700b-24d4-4f05-ef0d-6101123ad021",
        "id": "J7QNLRGalYKI"
      },
      "execution_count": 14,
      "outputs": [
        {
          "output_type": "stream",
          "name": "stdout",
          "text": [
            "1563/1563 [==============================] - 10s 6ms/step - loss: 0.7555 - accuracy: 0.6653\n"
          ]
        }
      ]
    },
    {
      "cell_type": "code",
      "source": [
        "import matplotlib.pyplot as plt\n",
        "epochs = range(1, len(val_acc_train_4) + 1)\n",
        "plt.plot(epochs, val_acc_train_4, 'r', label='Accuracy Train')\n",
        "plt.plot(epochs, val_acc_test_4,  'b', label='Accuracy Test')\n",
        "plt.title('Entrenamiento y Test (LSTM)')\n",
        "plt.xlabel('Épocas')\n",
        "plt.ylabel('Accuracy')\n",
        "plt.legend()\n",
        "plt.grid()\n",
        "\n",
        "plt.show()"
      ],
      "metadata": {
        "colab": {
          "base_uri": "https://localhost:8080/",
          "height": 474
        },
        "outputId": "a64ea748-3898-4a68-b8f5-b1e835ac492c",
        "id": "Yoss5lhelrc1"
      },
      "execution_count": 16,
      "outputs": [
        {
          "output_type": "display_data",
          "data": {
            "text/plain": [
              "<Figure size 640x480 with 1 Axes>"
            ],
            "image/png": "[encoded data removed]"
          },
          "metadata": {}
        }
      ]
    },
    {
      "cell_type": "markdown",
      "source": [
        "### GRU"
      ],
      "metadata": {
        "id": "3xQwkUdjl3iB"
      }
    },
    {
      "cell_type": "code",
      "source": [
        "# Definir el modelo\n",
        "model_5 = models.Sequential()\n",
        "model_5.add(layers.Embedding(input_dim=maxlen_4, output_dim=embedding_dim))\n",
        "model_5.add(GRU(64))\n",
        "model_5.add(Dropout(0.3))\n",
        "model_5.add(layers.Dense(128, activation='relu', kernel_regularizer=regularizers.l2(0.01)))\n",
        "model_5.add(Dropout(0.3))\n",
        "model_5.add(layers.Dense(num_classes, activation='softmax'))\n",
        "\n",
        "# Compilar el modelo\n",
        "model_5.compile(optimizer='adam', loss='categorical_crossentropy', metrics=['accuracy'])"
      ],
      "metadata": {
        "id": "dM5IlcLRl4Ao"
      },
      "execution_count": 17,
      "outputs": []
    },
    {
      "cell_type": "code",
      "source": [
        "model_5.summary()\n",
        "\n",
        "history_5 = model_5.fit(x_train_4,\n",
        "                        train_labels_4_encoded,\n",
        "                        epochs=20,\n",
        "                        batch_size=16384,\n",
        "                        validation_data=(x_test_4, test_labels_4_encoded))"
      ],
      "metadata": {
        "colab": {
          "base_uri": "https://localhost:8080/"
        },
        "id": "LfBdyFxpl-wo",
        "outputId": "e77cbdee-e4e6-45fe-e45a-6611764862d3"
      },
      "execution_count": 18,
      "outputs": [
        {
          "output_type": "stream",
          "name": "stdout",
          "text": [
            "Model: \"sequential_1\"\n",
            "_________________________________________________________________\n",
            " Layer (type)                Output Shape              Param #   \n",
            "=================================================================\n",
            " embedding_1 (Embedding)     (None, None, 50)          4000      \n",
            "                                                                 \n",
            " gru (GRU)                   (None, 64)                22272     \n",
            "                                                                 \n",
            " dropout_2 (Dropout)         (None, 64)                0         \n",
            "                                                                 \n",
            " dense_2 (Dense)             (None, 128)               8320      \n",
            "                                                                 \n",
            " dropout_3 (Dropout)         (None, 128)               0         \n",
            "                                                                 \n",
            " dense_3 (Dense)             (None, 3)                 387       \n",
            "                                                                 \n",
            "=================================================================\n",
            "Total params: 34979 (136.64 KB)\n",
            "Trainable params: 34979 (136.64 KB)\n",
            "Non-trainable params: 0 (0.00 Byte)\n",
            "_________________________________________________________________\n",
            "Epoch 1/20\n",
            "40/40 [==============================] - 13s 255ms/step - loss: 1.6125 - accuracy: 0.5894 - val_loss: 1.3562 - val_accuracy: 0.6000\n",
            "Epoch 2/20\n",
            "40/40 [==============================] - 8s 205ms/step - loss: 1.2252 - accuracy: 0.6000 - val_loss: 1.0832 - val_accuracy: 0.6000\n",
            "Epoch 3/20\n",
            "40/40 [==============================] - 11s 272ms/step - loss: 1.0137 - accuracy: 0.6022 - val_loss: 0.9465 - val_accuracy: 0.6128\n",
            "Epoch 4/20\n",
            "40/40 [==============================] - 9s 224ms/step - loss: 0.8946 - accuracy: 0.6278 - val_loss: 0.8288 - val_accuracy: 0.6513\n",
            "Epoch 5/20\n",
            "40/40 [==============================] - 9s 239ms/step - loss: 0.8165 - accuracy: 0.6509 - val_loss: 0.7941 - val_accuracy: 0.6567\n",
            "Epoch 6/20\n",
            "40/40 [==============================] - 9s 219ms/step - loss: 0.7967 - accuracy: 0.6537 - val_loss: 0.7864 - val_accuracy: 0.6572\n",
            "Epoch 7/20\n",
            "40/40 [==============================] - 9s 226ms/step - loss: 0.7894 - accuracy: 0.6547 - val_loss: 0.7792 - val_accuracy: 0.6574\n",
            "Epoch 8/20\n",
            "40/40 [==============================] - 9s 234ms/step - loss: 0.7857 - accuracy: 0.6552 - val_loss: 0.7768 - val_accuracy: 0.6581\n",
            "Epoch 9/20\n",
            "40/40 [==============================] - 9s 226ms/step - loss: 0.7838 - accuracy: 0.6556 - val_loss: 0.7758 - val_accuracy: 0.6595\n",
            "Epoch 10/20\n",
            "40/40 [==============================] - 9s 231ms/step - loss: 0.7822 - accuracy: 0.6561 - val_loss: 0.7754 - val_accuracy: 0.6591\n",
            "Epoch 11/20\n",
            "40/40 [==============================] - 9s 215ms/step - loss: 0.7807 - accuracy: 0.6564 - val_loss: 0.7741 - val_accuracy: 0.6591\n",
            "Epoch 12/20\n",
            "40/40 [==============================] - 9s 232ms/step - loss: 0.7796 - accuracy: 0.6564 - val_loss: 0.7725 - val_accuracy: 0.6582\n",
            "Epoch 13/20\n",
            "40/40 [==============================] - 8s 206ms/step - loss: 0.7783 - accuracy: 0.6567 - val_loss: 0.7704 - val_accuracy: 0.6593\n",
            "Epoch 14/20\n",
            "40/40 [==============================] - 9s 235ms/step - loss: 0.7767 - accuracy: 0.6573 - val_loss: 0.7686 - val_accuracy: 0.6614\n",
            "Epoch 15/20\n",
            "40/40 [==============================] - 9s 217ms/step - loss: 0.7750 - accuracy: 0.6574 - val_loss: 0.7665 - val_accuracy: 0.6608\n",
            "Epoch 16/20\n",
            "40/40 [==============================] - 9s 232ms/step - loss: 0.7729 - accuracy: 0.6582 - val_loss: 0.7649 - val_accuracy: 0.6613\n",
            "Epoch 17/20\n",
            "40/40 [==============================] - 9s 223ms/step - loss: 0.7716 - accuracy: 0.6585 - val_loss: 0.7642 - val_accuracy: 0.6602\n",
            "Epoch 18/20\n",
            "40/40 [==============================] - 9s 237ms/step - loss: 0.7699 - accuracy: 0.6588 - val_loss: 0.7618 - val_accuracy: 0.6625\n",
            "Epoch 19/20\n",
            "40/40 [==============================] - 8s 211ms/step - loss: 0.7676 - accuracy: 0.6600 - val_loss: 0.7598 - val_accuracy: 0.6618\n",
            "Epoch 20/20\n",
            "40/40 [==============================] - 9s 229ms/step - loss: 0.7657 - accuracy: 0.6607 - val_loss: 0.7576 - val_accuracy: 0.6641\n"
          ]
        }
      ]
    },
    {
      "cell_type": "code",
      "source": [
        "val_acc_train_5 = history_5.history['accuracy']\n",
        "val_acc_test_5 = history_5.history['val_accuracy']\n",
        "\n",
        "results_5 = model_5.evaluate(x_test_4, test_labels_4_encoded)"
      ],
      "metadata": {
        "colab": {
          "base_uri": "https://localhost:8080/"
        },
        "id": "CN6TNw6jnOQC",
        "outputId": "2d85dadf-a39c-4cdd-cd09-959500a518c0"
      },
      "execution_count": 19,
      "outputs": [
        {
          "output_type": "stream",
          "name": "stdout",
          "text": [
            "1563/1563 [==============================] - 14s 9ms/step - loss: 0.7576 - accuracy: 0.6641\n"
          ]
        }
      ]
    },
    {
      "cell_type": "code",
      "source": [
        "import matplotlib.pyplot as plt\n",
        "epochs = range(1, len(val_acc_train_4) + 1)\n",
        "plt.plot(epochs, val_acc_train_4, 'r', label='Accuracy Train')\n",
        "plt.plot(epochs, val_acc_test_4,  'b', label='Accuracy Test')\n",
        "plt.title('Entrenamiento y Test (LSTM)')\n",
        "plt.xlabel('Épocas')\n",
        "plt.ylabel('Accuracy')\n",
        "plt.legend()\n",
        "plt.grid()\n",
        "\n",
        "plt.show()"
      ],
      "metadata": {
        "colab": {
          "base_uri": "https://localhost:8080/",
          "height": 474
        },
        "id": "e6L6S8v6nYF9",
        "outputId": "fb326d66-2c6c-44cc-8a6f-1bbbdbd33ebf"
      },
      "execution_count": 20,
      "outputs": [
        {
          "output_type": "display_data",
          "data": {
            "text/plain": [
              "<Figure size 640x480 with 1 Axes>"
            ],
            "image/png": "[encoded data removed]"
          },
          "metadata": {}
        }
      ]
    },
    {
      "cell_type": "markdown",
      "source": [
        "## NOTA:\n",
        "\n",
        "Aunque los modelos aún tienen un margen de mejora considerable (idealmente buscaría una precisión del 90% o más), me he quedado sin capacidad de computo con GPU en la nube y debo parar aquí.\n",
        "\n",
        "Carlos Sánchez Polo"
      ],
      "metadata": {
        "id": "NSriPCKsnaOs"
      }
    }
  ],
  "metadata": {
    "kernelspec": {
      "display_name": "Python 3",
      "name": "python3"
    },
    "language_info": {
      "codemirror_mode": {
        "name": "ipython",
        "version": 3
      },
      "file_extension": ".py",
      "mimetype": "text/x-python",
      "name": "python",
      "nbconvert_exporter": "python",
      "pygments_lexer": "ipython3",
      "version": "3.11.5"
    },
    "colab": {
      "provenance": [],
      "toc_visible": true,
      "gpuType": "T4"
    },
    "accelerator": "GPU"
  },
  "nbformat": 4,
  "nbformat_minor": 0
}